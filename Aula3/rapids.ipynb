{
 "cells": [
  {
   "cell_type": "code",
   "execution_count": 11,
   "id": "28a063b5",
   "metadata": {},
   "outputs": [
    {
     "name": "stdout",
     "output_type": "stream",
     "text": [
      "/rapids/notebooks/repos/cuml/notebooks\n"
     ]
    }
   ],
   "source": [
    "!pwd"
   ]
  },
  {
   "cell_type": "markdown",
   "id": "215a77fb",
   "metadata": {},
   "source": [
    "# regressao com cuml"
   ]
  },
  {
   "cell_type": "code",
   "execution_count": 1,
   "id": "16cd8d00",
   "metadata": {},
   "outputs": [],
   "source": [
    "import cudf as pd\n",
    "from cuml import make_regression, train_test_split\n",
    "from cuml.linear_model import LinearRegression as LinearRegression\n",
    "from cuml.metrics.regression import r2_score"
   ]
  },
  {
   "cell_type": "markdown",
   "id": "bfdf06ca",
   "metadata": {},
   "source": [
    "# regressao com scikit"
   ]
  },
  {
   "cell_type": "code",
   "execution_count": 1,
   "id": "9df0f91a",
   "metadata": {},
   "outputs": [],
   "source": [
    "import pandas as pd\n",
    "import numpy as np \n",
    "from numpy import vstack\n",
    "import matplotlib.pyplot as plt\n",
    "\n",
    "import sklearn\n",
    "from sklearn.model_selection import train_test_split\n",
    "from sklearn.metrics import mean_squared_error\n",
    "from sklearn.preprocessing import StandardScaler, LabelEncoder\n",
    "from sklearn.metrics import accuracy_score, mean_squared_error\n",
    "from sklearn.linear_model import LinearRegression\n",
    "\n",
    "from math import sqrt"
   ]
  },
  {
   "cell_type": "code",
   "execution_count": 2,
   "id": "04c1f067",
   "metadata": {},
   "outputs": [
    {
     "name": "stdout",
     "output_type": "stream",
     "text": [
      "(278, 7)\n",
      "(119, 7)\n",
      "CPU times: user 2.29 s, sys: 822 ms, total: 3.11 s\n",
      "Wall time: 3.12 s\n"
     ]
    },
    {
     "data": {
      "text/plain": [
       "LinearRegression()"
      ]
     },
     "execution_count": 2,
     "metadata": {},
     "output_type": "execute_result"
    }
   ],
   "source": [
    "%%time\n",
    "\n",
    "df = pd.read_csv('/rapids/notebooks/host/auto_final.csv') \n",
    "\n",
    "target = df[['mpg']] \n",
    "predictors = df[['cylinders','displacement','horsepower','weight','acceleration','year','originL']]\n",
    "\n",
    "X = predictors.values\n",
    "y = target.values\n",
    "\n",
    "X_train, X_test, y_train, y_test = train_test_split(X, y, test_size=0.30, random_state=40)\n",
    "print(X_train.shape); \n",
    "print(X_test.shape)\n",
    "\n",
    "reg = LinearRegression().fit(X,y)\n",
    "reg\n"
   ]
  },
  {
   "cell_type": "code",
   "execution_count": 3,
   "id": "5162487d",
   "metadata": {},
   "outputs": [
    {
     "data": {
      "text/plain": [
       "cuml.linear_model.linear_regression.LinearRegression"
      ]
     },
     "execution_count": 3,
     "metadata": {},
     "output_type": "execute_result"
    }
   ],
   "source": [
    "type(reg)"
   ]
  },
  {
   "cell_type": "code",
   "execution_count": 4,
   "id": "968fcd80",
   "metadata": {},
   "outputs": [
    {
     "data": {
      "text/plain": [
       "cudf.core.dataframe.DataFrame"
      ]
     },
     "execution_count": 4,
     "metadata": {},
     "output_type": "execute_result"
    }
   ],
   "source": [
    "type(df)"
   ]
  },
  {
   "cell_type": "code",
   "execution_count": null,
   "id": "77e71554",
   "metadata": {},
   "outputs": [],
   "source": []
  },
  {
   "cell_type": "markdown",
   "id": "67a2caf5",
   "metadata": {},
   "source": [
    "# exemplo de classificação"
   ]
  },
  {
   "cell_type": "code",
   "execution_count": 1,
   "id": "5e2cc200",
   "metadata": {},
   "outputs": [],
   "source": [
    "import cudf\n",
    "import numpy as np\n",
    "import pandas as pd\n",
    "import pickle\n",
    "\n",
    "from cuml.ensemble import RandomForestClassifier as rfc\n",
    "from cuml.metrics import accuracy_score\n",
    "\n",
    "import cudf as pd\n",
    "from cuml import make_regression, train_test_split\n",
    "from cuml.linear_model import LinearRegression as LinearRegression\n",
    "from cuml.metrics.regression import r2_score"
   ]
  },
  {
   "cell_type": "code",
   "execution_count": 1,
   "id": "eb91d120",
   "metadata": {},
   "outputs": [],
   "source": [
    "\n",
    "import pandas as pd\n",
    "import numpy as np \n",
    "from numpy import vstack\n",
    "import matplotlib.pyplot as plt\n",
    "\n",
    "import sklearn\n",
    "from sklearn.model_selection import train_test_split\n",
    "from sklearn.metrics import mean_squared_error\n",
    "from sklearn.preprocessing import StandardScaler, LabelEncoder\n",
    "from sklearn.metrics import accuracy_score, mean_squared_error\n",
    "from sklearn.linear_model import LinearRegression\n",
    "\n",
    "from math import sqrt\n",
    "from sklearn.ensemble import RandomForestClassifier as rfc\n",
    "from sklearn.datasets import make_classification\n",
    "from sklearn.model_selection import train_test_split"
   ]
  },
  {
   "cell_type": "code",
   "execution_count": 2,
   "id": "f167f4f4",
   "metadata": {},
   "outputs": [],
   "source": [
    "# Define X e y\n",
    "df = pd.read_csv('/rapids/notebooks/host/pima-indians-diabetes.csv') \n",
    "target = df[['Class']] \n",
    "predictors = df[['Pregnancies','Glucose','BloodPressure','SkinThickness','Insulin','BMI','DiabetesPedigreeFunction', 'Age']]\n",
    "\n",
    "X = predictors.values\n",
    "y = target.values\n",
    "\n",
    "\n",
    "# Train/test split\n",
    "X_train, X_test, y_train, y_test = train_test_split(X, y, test_size=0.30, random_state=40)\n",
    "#y_train\n",
    "\n"
   ]
  },
  {
   "cell_type": "code",
   "execution_count": 3,
   "id": "96f91201",
   "metadata": {},
   "outputs": [
    {
     "name": "stdout",
     "output_type": "stream",
     "text": [
      "[W] [13:58:38.672292] Using experimental backend for growing trees\n",
      "\n",
      "CPU times: user 120 ms, sys: 57.4 ms, total: 178 ms\n",
      "Wall time: 92.8 ms\n"
     ]
    },
    {
     "name": "stderr",
     "output_type": "stream",
     "text": [
      "/opt/conda/envs/rapids/lib/python3.7/site-packages/cuml/internals/api_decorators.py:794: UserWarning: For reproducible results in Random Forest Classifier or for almost reproducible results in Random Forest Regressor, n_streams==1 is recommended. If n_streams is > 1, results may vary due to stream/thread timing differences, even when random_state is set\n",
      "  return func(**kwargs)\n",
      "/opt/conda/envs/rapids/lib/python3.7/site-packages/cuml/internals/api_decorators.py:567: UserWarning: To use pickling or GPU-based prediction first train using float32 data to fit the estimator\n",
      "  ret_val = func(*args, **kwargs)\n"
     ]
    },
    {
     "data": {
      "text/plain": [
       "RandomForestClassifier()"
      ]
     },
     "execution_count": 3,
     "metadata": {},
     "output_type": "execute_result"
    }
   ],
   "source": [
    "%%time\n",
    "model = rfc(n_estimators=40,\n",
    "                 max_depth=16,\n",
    "                 max_features=1.0,\n",
    "                 random_state=10)\n",
    "\n",
    "model.fit(X_train, y_train)"
   ]
  },
  {
   "cell_type": "code",
   "execution_count": 4,
   "id": "5f2d127f",
   "metadata": {},
   "outputs": [
    {
     "data": {
      "text/plain": [
       "cuml.ensemble.randomforestclassifier.RandomForestClassifier"
      ]
     },
     "execution_count": 4,
     "metadata": {},
     "output_type": "execute_result"
    }
   ],
   "source": [
    "type(model)"
   ]
  },
  {
   "cell_type": "code",
   "execution_count": 5,
   "id": "62a590ab",
   "metadata": {},
   "outputs": [
    {
     "data": {
      "text/plain": [
       "cudf.core.dataframe.DataFrame"
      ]
     },
     "execution_count": 5,
     "metadata": {},
     "output_type": "execute_result"
    }
   ],
   "source": [
    "type(df)"
   ]
  },
  {
   "cell_type": "code",
   "execution_count": null,
   "id": "5a35a238",
   "metadata": {},
   "outputs": [],
   "source": []
  }
 ],
 "metadata": {
  "kernelspec": {
   "display_name": "Python 3",
   "language": "python",
   "name": "python3"
  },
  "language_info": {
   "codemirror_mode": {
    "name": "ipython",
    "version": 3
   },
   "file_extension": ".py",
   "mimetype": "text/x-python",
   "name": "python",
   "nbconvert_exporter": "python",
   "pygments_lexer": "ipython3",
   "version": "3.7.10"
  }
 },
 "nbformat": 4,
 "nbformat_minor": 5
}
