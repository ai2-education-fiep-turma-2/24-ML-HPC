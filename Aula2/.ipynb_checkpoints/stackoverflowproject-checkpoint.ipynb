{
 "cells": [
  {
   "cell_type": "code",
   "execution_count": 64,
   "metadata": {
    "_cell_guid": "b1076dfc-b9ad-4769-8c92-a6c4dae69d19",
    "_uuid": "8f2839f25d086af736a60e9eeb907d3b93b6e0e5"
   },
   "outputs": [
    {
     "name": "stdout",
     "output_type": "stream",
     "text": [
      "/home/silvio/dataset/stackoverflow/private leaderboard raw.7z\n",
      "/home/silvio/dataset/stackoverflow/train-sample_October_9_2012_v2.gz\n",
      "/home/silvio/dataset/stackoverflow/train_October_9_2012.zip\n",
      "/home/silvio/dataset/stackoverflow/train-sample.gz\n",
      "/home/silvio/dataset/stackoverflow/train.7z\n",
      "/home/silvio/dataset/stackoverflow/public_leaderboard.csv\n",
      "/home/silvio/dataset/stackoverflow/train-sample_October_9_2012_v2.7z\n",
      "/home/silvio/dataset/stackoverflow/private_leaderboard.zip\n",
      "/home/silvio/dataset/stackoverflow/private_leaderboard.csv\n",
      "/home/silvio/dataset/stackoverflow/private_leaderboard.gz\n",
      "/home/silvio/dataset/stackoverflow/private_leaderboard.7z\n",
      "/home/silvio/dataset/stackoverflow/uniform_benchmark.csv\n",
      "/home/silvio/dataset/stackoverflow/train-sample_October_9_2012_v2.csv\n",
      "/home/silvio/dataset/stackoverflow/train.csv\n",
      "/home/silvio/dataset/stackoverflow/basic_benchmark.csv\n",
      "/home/silvio/dataset/stackoverflow/train_October_9_2012.7z\n",
      "/home/silvio/dataset/stackoverflow/predict-closed-questions-on-stack-overflow.zip\n",
      "/home/silvio/dataset/stackoverflow/public_leaderboard.7z\n",
      "/home/silvio/dataset/stackoverflow/train-sample_October_9_2012_v2.zip\n",
      "/home/silvio/dataset/stackoverflow/prior_benchmark.csv\n",
      "/home/silvio/dataset/stackoverflow/train-sample.7z\n",
      "/home/silvio/dataset/stackoverflow/train-sample.zip\n",
      "/home/silvio/dataset/stackoverflow/test.csv\n",
      "/home/silvio/dataset/stackoverflow/2012-07 Stack Overflow.7z\n",
      "/home/silvio/dataset/stackoverflow/train.zip\n",
      "/home/silvio/dataset/stackoverflow/public_leaderboard.gz\n",
      "/home/silvio/dataset/stackoverflow/train_October_9_2012.gz\n",
      "/home/silvio/dataset/stackoverflow/public_leaderboard.zip\n",
      "/home/silvio/dataset/stackoverflow/train_October_9_2012.csv\n",
      "/home/silvio/dataset/stackoverflow/train-sample.csv\n"
     ]
    }
   ],
   "source": [
    "# This Python 3 environment comes with many helpful analytics libraries installed\n",
    "# It is defined by the kaggle/python Docker image: https://github.com/kaggle/docker-python\n",
    "# For example, here's several helpful packages to load\n",
    "\n",
    "import numpy as np # linear algebra\n",
    "import pandas as pd # data processing, CSV file I/O (e.g. pd.read_csv)\n",
    "\n",
    "# Input data files are available in the read-only \"../input/\" directory\n",
    "# For example, running this (by clicking run or pressing Shift+Enter) will list all files under the input directory\n",
    "\n",
    "import os\n",
    "for dirname, _, filenames in os.walk('/home/silvio/dataset/stackoverflow'):\n",
    "    for filename in filenames:\n",
    "        print(os.path.join(dirname, filename))\n",
    "\n",
    "# You can write up to 20GB to the current directory (/kaggle/working/) that gets preserved as output when you create a version using \"Save & Run All\" \n",
    "# You can also write temporary files to /kaggle/temp/, but they won't be saved outside of the current session"
   ]
  },
  {
   "cell_type": "code",
   "execution_count": 75,
   "metadata": {
    "_cell_guid": "79c7e3d0-c299-4dcb-8224-4455121ee9b0",
    "_uuid": "d629ff2d2480ee46fbb7e2d37f6b5fab8052498a"
   },
   "outputs": [
    {
     "name": "stdout",
     "output_type": "stream",
     "text": [
      "0:00:43.876345\n"
     ]
    }
   ],
   "source": [
    "import datetime\n",
    "\n",
    "B=datetime.datetime.now()\n",
    "\n",
    "df_train=pd.read_csv('/home/silvio/dataset/stackoverflow/train.csv')\n",
    "#df_train=pd.read_csv('/home/silvio/dataset/stackoverflow/train_October_9_2012.csv')\n",
    "#df_train=pd.read_csv('/home/silvio/dataset/stackoverflow/train-sample.csv')\n",
    "df_train.head()\n",
    "\n",
    "E=datetime.datetime.now()\n",
    "print(E-B)"
   ]
  },
  {
   "cell_type": "code",
   "execution_count": 76,
   "metadata": {},
   "outputs": [],
   "source": [
    "from pandasql import sqldf\n",
    "\n"
   ]
  },
  {
   "cell_type": "code",
   "execution_count": 77,
   "metadata": {},
   "outputs": [
    {
     "name": "stdout",
     "output_type": "stream",
     "text": [
      "0:01:15.180228\n"
     ]
    }
   ],
   "source": [
    "B=datetime.datetime.now()\n",
    "\n",
    "output = sqldf(\"SELECT count(OwnerUserId) FROM df_train\")\n",
    "\n",
    "E=datetime.datetime.now()\n",
    "print(E-B)"
   ]
  },
  {
   "cell_type": "code",
   "execution_count": 78,
   "metadata": {},
   "outputs": [
    {
     "data": {
      "text/html": [
       "<div>\n",
       "<style scoped>\n",
       "    .dataframe tbody tr th:only-of-type {\n",
       "        vertical-align: middle;\n",
       "    }\n",
       "\n",
       "    .dataframe tbody tr th {\n",
       "        vertical-align: top;\n",
       "    }\n",
       "\n",
       "    .dataframe thead th {\n",
       "        text-align: right;\n",
       "    }\n",
       "</style>\n",
       "<table border=\"1\" class=\"dataframe\">\n",
       "  <thead>\n",
       "    <tr style=\"text-align: right;\">\n",
       "      <th></th>\n",
       "      <th>count(OwnerUserId)</th>\n",
       "    </tr>\n",
       "  </thead>\n",
       "  <tbody>\n",
       "    <tr>\n",
       "      <th>0</th>\n",
       "      <td>3370528</td>\n",
       "    </tr>\n",
       "  </tbody>\n",
       "</table>\n",
       "</div>"
      ],
      "text/plain": [
       "   count(OwnerUserId)\n",
       "0             3370528"
      ]
     },
     "execution_count": 78,
     "metadata": {},
     "output_type": "execute_result"
    }
   ],
   "source": [
    "output"
   ]
  },
  {
   "cell_type": "code",
   "execution_count": 67,
   "metadata": {},
   "outputs": [
    {
     "ename": "AttributeError",
     "evalue": "'numpy.ndarray' object has no attribute 'count'",
     "output_type": "error",
     "traceback": [
      "\u001b[0;31m---------------------------------------------------------------------------\u001b[0m",
      "\u001b[0;31mAttributeError\u001b[0m                            Traceback (most recent call last)",
      "\u001b[0;32m<ipython-input-67-d583509f2fea>\u001b[0m in \u001b[0;36m<module>\u001b[0;34m\u001b[0m\n\u001b[0;32m----> 1\u001b[0;31m \u001b[0mdf_train\u001b[0m\u001b[0;34m[\u001b[0m\u001b[0;34m'OwnerUserId'\u001b[0m\u001b[0;34m]\u001b[0m\u001b[0;34m.\u001b[0m\u001b[0munique\u001b[0m\u001b[0;34m(\u001b[0m\u001b[0;34m)\u001b[0m\u001b[0;34m.\u001b[0m\u001b[0mcount\u001b[0m\u001b[0;34m(\u001b[0m\u001b[0;34m)\u001b[0m\u001b[0;34m\u001b[0m\u001b[0;34m\u001b[0m\u001b[0m\n\u001b[0m",
      "\u001b[0;31mAttributeError\u001b[0m: 'numpy.ndarray' object has no attribute 'count'"
     ]
    }
   ],
   "source": [
    "df_train['OwnerUserId'].unique().count()"
   ]
  },
  {
   "cell_type": "code",
   "execution_count": 59,
   "metadata": {},
   "outputs": [
    {
     "data": {
      "text/plain": [
       "0    07/31/2008 21:42:52\n",
       "1    07/31/2008 22:08:08\n",
       "2    07/31/2008 23:33:19\n",
       "3    07/31/2008 23:40:59\n",
       "4    07/31/2008 23:55:37\n",
       "5    08/01/2008 00:42:38\n",
       "6    08/01/2008 00:59:11\n",
       "7    08/01/2008 04:59:33\n",
       "8    08/01/2008 05:09:55\n",
       "9    08/01/2008 05:21:22\n",
       "Name: PostCreationDate, dtype: object"
      ]
     },
     "execution_count": 59,
     "metadata": {},
     "output_type": "execute_result"
    }
   ],
   "source": [
    "df_train['PostCreationDate'].head(10)"
   ]
  },
  {
   "cell_type": "code",
   "execution_count": 60,
   "metadata": {},
   "outputs": [
    {
     "data": {
      "text/plain": [
       "3664846    10/09/2012 23:56:07\n",
       "3664847    10/09/2012 23:56:31\n",
       "3664848    10/09/2012 23:56:32\n",
       "3664849    10/09/2012 23:56:42\n",
       "3664850    10/09/2012 23:58:02\n",
       "3664851    10/09/2012 23:58:43\n",
       "3664852    10/09/2012 23:59:10\n",
       "3664853    10/02/2012 22:59:53\n",
       "3664854    01/06/2012 23:44:44\n",
       "3664855    03/11/2011 17:50:19\n",
       "Name: PostCreationDate, dtype: object"
      ]
     },
     "execution_count": 60,
     "metadata": {},
     "output_type": "execute_result"
    }
   ],
   "source": [
    "df_train['PostCreationDate'].tail(10)"
   ]
  },
  {
   "cell_type": "code",
   "execution_count": 61,
   "metadata": {},
   "outputs": [
    {
     "name": "stdout",
     "output_type": "stream",
     "text": [
      "0:00:44.974806\n"
     ]
    }
   ],
   "source": [
    "import datetime\n",
    "\n",
    "B=datetime.datetime.now()\n",
    "#df_train=pd.read_csv('/home/silvio/dataset/stackoverflow/train.csv')\n",
    "df_train=pd.read_csv('/home/silvio/dataset/stackoverflow/train_October_9_2012.csv')\n",
    "#df_train=pd.read_csv('/home/silvio/dataset/stackoverflow/train-sample.csv')\n",
    "df_train.head()\n",
    "E=datetime.datetime.now()\n",
    "print(E-B)"
   ]
  },
  {
   "cell_type": "code",
   "execution_count": 62,
   "metadata": {},
   "outputs": [
    {
     "data": {
      "text/plain": [
       "0    07/31/2008 21:42:52\n",
       "1    07/31/2008 22:08:08\n",
       "2    07/31/2008 23:33:19\n",
       "3    07/31/2008 23:40:59\n",
       "4    07/31/2008 23:55:37\n",
       "5    08/01/2008 00:42:38\n",
       "6    08/01/2008 00:59:11\n",
       "7    08/01/2008 04:59:33\n",
       "8    08/01/2008 05:09:55\n",
       "9    08/01/2008 05:21:22\n",
       "Name: PostCreationDate, dtype: object"
      ]
     },
     "execution_count": 62,
     "metadata": {},
     "output_type": "execute_result"
    }
   ],
   "source": [
    "df_train['PostCreationDate'].head(10)"
   ]
  },
  {
   "cell_type": "code",
   "execution_count": 63,
   "metadata": {},
   "outputs": [
    {
     "data": {
      "text/plain": [
       "3664846    10/09/2012 23:56:07\n",
       "3664847    10/09/2012 23:56:31\n",
       "3664848    10/09/2012 23:56:32\n",
       "3664849    10/09/2012 23:56:42\n",
       "3664850    10/09/2012 23:58:02\n",
       "3664851    10/09/2012 23:58:43\n",
       "3664852    10/09/2012 23:59:10\n",
       "3664853    10/02/2012 22:59:53\n",
       "3664854    01/06/2012 23:44:44\n",
       "3664855    03/11/2011 17:50:19\n",
       "Name: PostCreationDate, dtype: object"
      ]
     },
     "execution_count": 63,
     "metadata": {},
     "output_type": "execute_result"
    }
   ],
   "source": [
    "df_train['PostCreationDate'].tail(10)"
   ]
  },
  {
   "cell_type": "code",
   "execution_count": null,
   "metadata": {},
   "outputs": [],
   "source": [
    "df_train.tail(13)"
   ]
  },
  {
   "cell_type": "code",
   "execution_count": null,
   "metadata": {},
   "outputs": [],
   "source": [
    "pd.set_option('display.max_colwidth', None)"
   ]
  },
  {
   "cell_type": "code",
   "execution_count": null,
   "metadata": {},
   "outputs": [],
   "source": [
    "df_train['Title'].head(2)"
   ]
  },
  {
   "cell_type": "code",
   "execution_count": null,
   "metadata": {},
   "outputs": [],
   "source": [
    "df_train['BodyMarkdown'].head(2)"
   ]
  },
  {
   "cell_type": "code",
   "execution_count": null,
   "metadata": {},
   "outputs": [],
   "source": []
  },
  {
   "cell_type": "code",
   "execution_count": null,
   "metadata": {},
   "outputs": [],
   "source": [
    "df_train['OpenStatus']"
   ]
  },
  {
   "cell_type": "code",
   "execution_count": null,
   "metadata": {},
   "outputs": [],
   "source": [
    "df_train['OpenStatus'].unique()"
   ]
  },
  {
   "cell_type": "code",
   "execution_count": null,
   "metadata": {},
   "outputs": [],
   "source": [
    "df_train.info()"
   ]
  },
  {
   "cell_type": "code",
   "execution_count": null,
   "metadata": {},
   "outputs": [],
   "source": [
    "df_train.shape"
   ]
  },
  {
   "cell_type": "code",
   "execution_count": 5,
   "metadata": {},
   "outputs": [
    {
     "name": "stdout",
     "output_type": "stream",
     "text": [
      "Training data shape: (2696422, 15)\n",
      "Testing data shape: (674106, 15)\n",
      "0:00:04.567311\n"
     ]
    }
   ],
   "source": [
    "B=datetime.datetime.now()\n",
    "\n",
    "from sklearn.model_selection import train_test_split\n",
    "train_df,test_df=train_test_split(df_train,test_size=0.2)\n",
    "print('Training data shape: {}'.format(train_df.shape))\n",
    "print('Testing data shape: {}'.format(test_df.shape))\n",
    "\n",
    "E=datetime.datetime.now()\n",
    "print(E-B)"
   ]
  },
  {
   "cell_type": "markdown",
   "metadata": {},
   "source": [
    "# Exploratory Data Analysis"
   ]
  },
  {
   "cell_type": "markdown",
   "metadata": {},
   "source": [
    "## PostID"
   ]
  },
  {
   "cell_type": "markdown",
   "metadata": {},
   "source": [
    "This feature is the id of the query posted by the user. This feauture does not have any importance in making the prediction but it will be used later for submission we will save it."
   ]
  },
  {
   "cell_type": "code",
   "execution_count": 6,
   "metadata": {},
   "outputs": [],
   "source": [
    "train_post_id=train_df.PostId\n",
    "test_post_id=test_df.PostId"
   ]
  },
  {
   "cell_type": "markdown",
   "metadata": {},
   "source": [
    "## PostCreationDate\n",
    "\n",
    "The post creation date is the date and time on which the query was posted by the user let us see if we could make something out of this."
   ]
  },
  {
   "cell_type": "markdown",
   "metadata": {},
   "source": [
    "As we have observed that it doesn't matter on the time the question is posted on its label thus we can just remove this column both from our train and test."
   ]
  },
  {
   "cell_type": "code",
   "execution_count": 7,
   "metadata": {},
   "outputs": [
    {
     "name": "stderr",
     "output_type": "stream",
     "text": [
      "/home/silvio/.conda/envs/fiep-2021/lib/python3.8/site-packages/pandas/core/frame.py:4305: SettingWithCopyWarning: \n",
      "A value is trying to be set on a copy of a slice from a DataFrame\n",
      "\n",
      "See the caveats in the documentation: https://pandas.pydata.org/pandas-docs/stable/user_guide/indexing.html#returning-a-view-versus-a-copy\n",
      "  return super().drop(\n"
     ]
    }
   ],
   "source": [
    "train_df.drop(['PostCreationDate'],axis=1,inplace=True)\n",
    "test_df.drop(['PostCreationDate'],axis=1,inplace=True)"
   ]
  },
  {
   "cell_type": "code",
   "execution_count": 8,
   "metadata": {},
   "outputs": [
    {
     "data": {
      "text/html": [
       "<div>\n",
       "<style scoped>\n",
       "    .dataframe tbody tr th:only-of-type {\n",
       "        vertical-align: middle;\n",
       "    }\n",
       "\n",
       "    .dataframe tbody tr th {\n",
       "        vertical-align: top;\n",
       "    }\n",
       "\n",
       "    .dataframe thead th {\n",
       "        text-align: right;\n",
       "    }\n",
       "</style>\n",
       "<table border=\"1\" class=\"dataframe\">\n",
       "  <thead>\n",
       "    <tr style=\"text-align: right;\">\n",
       "      <th></th>\n",
       "      <th>PostId</th>\n",
       "      <th>OwnerUserId</th>\n",
       "      <th>OwnerCreationDate</th>\n",
       "      <th>ReputationAtPostCreation</th>\n",
       "      <th>OwnerUndeletedAnswerCountAtPostTime</th>\n",
       "      <th>Title</th>\n",
       "      <th>BodyMarkdown</th>\n",
       "      <th>Tag1</th>\n",
       "      <th>Tag2</th>\n",
       "      <th>Tag3</th>\n",
       "      <th>Tag4</th>\n",
       "      <th>Tag5</th>\n",
       "      <th>PostClosedDate</th>\n",
       "      <th>OpenStatus</th>\n",
       "    </tr>\n",
       "  </thead>\n",
       "  <tbody>\n",
       "    <tr>\n",
       "      <th>1308203</th>\n",
       "      <td>5443058</td>\n",
       "      <td>359844</td>\n",
       "      <td>06/06/2010 19:25:39</td>\n",
       "      <td>348</td>\n",
       "      <td>0</td>\n",
       "      <td>How can I create a event listener that will ex...</td>\n",
       "      <td>Alright, I've looked online at a bunch of diff...</td>\n",
       "      <td>actionscript-3</td>\n",
       "      <td>NaN</td>\n",
       "      <td>NaN</td>\n",
       "      <td>NaN</td>\n",
       "      <td>NaN</td>\n",
       "      <td>NaN</td>\n",
       "      <td>open</td>\n",
       "    </tr>\n",
       "    <tr>\n",
       "      <th>2939435</th>\n",
       "      <td>9977544</td>\n",
       "      <td>1098767</td>\n",
       "      <td>12/14/2011 21:53:52</td>\n",
       "      <td>36</td>\n",
       "      <td>0</td>\n",
       "      <td>How can I get this return data into dynamic ar...</td>\n",
       "      <td>Working with regular javascript, I need to sto...</td>\n",
       "      <td>javascript</td>\n",
       "      <td>arrays</td>\n",
       "      <td>variables</td>\n",
       "      <td>NaN</td>\n",
       "      <td>NaN</td>\n",
       "      <td>NaN</td>\n",
       "      <td>open</td>\n",
       "    </tr>\n",
       "  </tbody>\n",
       "</table>\n",
       "</div>"
      ],
      "text/plain": [
       "          PostId  OwnerUserId    OwnerCreationDate  ReputationAtPostCreation  \\\n",
       "1308203  5443058       359844  06/06/2010 19:25:39                       348   \n",
       "2939435  9977544      1098767  12/14/2011 21:53:52                        36   \n",
       "\n",
       "         OwnerUndeletedAnswerCountAtPostTime  \\\n",
       "1308203                                    0   \n",
       "2939435                                    0   \n",
       "\n",
       "                                                     Title  \\\n",
       "1308203  How can I create a event listener that will ex...   \n",
       "2939435  How can I get this return data into dynamic ar...   \n",
       "\n",
       "                                              BodyMarkdown            Tag1  \\\n",
       "1308203  Alright, I've looked online at a bunch of diff...  actionscript-3   \n",
       "2939435  Working with regular javascript, I need to sto...      javascript   \n",
       "\n",
       "           Tag2       Tag3 Tag4 Tag5 PostClosedDate OpenStatus  \n",
       "1308203     NaN        NaN  NaN  NaN            NaN       open  \n",
       "2939435  arrays  variables  NaN  NaN            NaN       open  "
      ]
     },
     "execution_count": 8,
     "metadata": {},
     "output_type": "execute_result"
    }
   ],
   "source": [
    "train_df.head(2)"
   ]
  },
  {
   "cell_type": "markdown",
   "metadata": {},
   "source": [
    "## OwnerUserId"
   ]
  },
  {
   "cell_type": "markdown",
   "metadata": {},
   "source": [
    "This is the user id who posted the query. Let us check it"
   ]
  },
  {
   "cell_type": "code",
   "execution_count": 9,
   "metadata": {},
   "outputs": [
    {
     "name": "stderr",
     "output_type": "stream",
     "text": [
      "<ipython-input-9-a0d7a3ecb715>:1: SettingWithCopyWarning: \n",
      "A value is trying to be set on a copy of a slice from a DataFrame.\n",
      "Try using .loc[row_indexer,col_indexer] = value instead\n",
      "\n",
      "See the caveats in the documentation: https://pandas.pydata.org/pandas-docs/stable/user_guide/indexing.html#returning-a-view-versus-a-copy\n",
      "  train_df['PostCount']=[1]*len(train_df['PostId'])\n"
     ]
    }
   ],
   "source": [
    "train_df['PostCount']=[1]*len(train_df['PostId'])"
   ]
  },
  {
   "cell_type": "code",
   "execution_count": 10,
   "metadata": {},
   "outputs": [
    {
     "data": {
      "text/html": [
       "<div>\n",
       "<style scoped>\n",
       "    .dataframe tbody tr th:only-of-type {\n",
       "        vertical-align: middle;\n",
       "    }\n",
       "\n",
       "    .dataframe tbody tr th {\n",
       "        vertical-align: top;\n",
       "    }\n",
       "\n",
       "    .dataframe thead th {\n",
       "        text-align: right;\n",
       "    }\n",
       "</style>\n",
       "<table border=\"1\" class=\"dataframe\">\n",
       "  <thead>\n",
       "    <tr style=\"text-align: right;\">\n",
       "      <th>OpenStatus</th>\n",
       "      <th>not a real question</th>\n",
       "      <th>not constructive</th>\n",
       "      <th>off topic</th>\n",
       "      <th>open</th>\n",
       "      <th>too localized</th>\n",
       "    </tr>\n",
       "    <tr>\n",
       "      <th>OwnerUserId</th>\n",
       "      <th></th>\n",
       "      <th></th>\n",
       "      <th></th>\n",
       "      <th></th>\n",
       "      <th></th>\n",
       "    </tr>\n",
       "  </thead>\n",
       "  <tbody>\n",
       "    <tr>\n",
       "      <th>1</th>\n",
       "      <td>NaN</td>\n",
       "      <td>NaN</td>\n",
       "      <td>NaN</td>\n",
       "      <td>12.0</td>\n",
       "      <td>NaN</td>\n",
       "    </tr>\n",
       "    <tr>\n",
       "      <th>2</th>\n",
       "      <td>NaN</td>\n",
       "      <td>NaN</td>\n",
       "      <td>NaN</td>\n",
       "      <td>6.0</td>\n",
       "      <td>NaN</td>\n",
       "    </tr>\n",
       "    <tr>\n",
       "      <th>3</th>\n",
       "      <td>NaN</td>\n",
       "      <td>NaN</td>\n",
       "      <td>NaN</td>\n",
       "      <td>6.0</td>\n",
       "      <td>NaN</td>\n",
       "    </tr>\n",
       "    <tr>\n",
       "      <th>4</th>\n",
       "      <td>NaN</td>\n",
       "      <td>NaN</td>\n",
       "      <td>NaN</td>\n",
       "      <td>6.0</td>\n",
       "      <td>NaN</td>\n",
       "    </tr>\n",
       "    <tr>\n",
       "      <th>5</th>\n",
       "      <td>NaN</td>\n",
       "      <td>NaN</td>\n",
       "      <td>1.0</td>\n",
       "      <td>32.0</td>\n",
       "      <td>NaN</td>\n",
       "    </tr>\n",
       "    <tr>\n",
       "      <th>...</th>\n",
       "      <td>...</td>\n",
       "      <td>...</td>\n",
       "      <td>...</td>\n",
       "      <td>...</td>\n",
       "      <td>...</td>\n",
       "    </tr>\n",
       "    <tr>\n",
       "      <th>1567174</th>\n",
       "      <td>NaN</td>\n",
       "      <td>NaN</td>\n",
       "      <td>NaN</td>\n",
       "      <td>1.0</td>\n",
       "      <td>NaN</td>\n",
       "    </tr>\n",
       "    <tr>\n",
       "      <th>1567175</th>\n",
       "      <td>NaN</td>\n",
       "      <td>NaN</td>\n",
       "      <td>NaN</td>\n",
       "      <td>1.0</td>\n",
       "      <td>NaN</td>\n",
       "    </tr>\n",
       "    <tr>\n",
       "      <th>1567179</th>\n",
       "      <td>NaN</td>\n",
       "      <td>NaN</td>\n",
       "      <td>NaN</td>\n",
       "      <td>1.0</td>\n",
       "      <td>NaN</td>\n",
       "    </tr>\n",
       "    <tr>\n",
       "      <th>1567186</th>\n",
       "      <td>NaN</td>\n",
       "      <td>NaN</td>\n",
       "      <td>NaN</td>\n",
       "      <td>1.0</td>\n",
       "      <td>NaN</td>\n",
       "    </tr>\n",
       "    <tr>\n",
       "      <th>1567194</th>\n",
       "      <td>NaN</td>\n",
       "      <td>NaN</td>\n",
       "      <td>NaN</td>\n",
       "      <td>1.0</td>\n",
       "      <td>NaN</td>\n",
       "    </tr>\n",
       "  </tbody>\n",
       "</table>\n",
       "<p>554183 rows × 5 columns</p>\n",
       "</div>"
      ],
      "text/plain": [
       "OpenStatus   not a real question  not constructive  off topic  open  \\\n",
       "OwnerUserId                                                           \n",
       "1                            NaN               NaN        NaN  12.0   \n",
       "2                            NaN               NaN        NaN   6.0   \n",
       "3                            NaN               NaN        NaN   6.0   \n",
       "4                            NaN               NaN        NaN   6.0   \n",
       "5                            NaN               NaN        1.0  32.0   \n",
       "...                          ...               ...        ...   ...   \n",
       "1567174                      NaN               NaN        NaN   1.0   \n",
       "1567175                      NaN               NaN        NaN   1.0   \n",
       "1567179                      NaN               NaN        NaN   1.0   \n",
       "1567186                      NaN               NaN        NaN   1.0   \n",
       "1567194                      NaN               NaN        NaN   1.0   \n",
       "\n",
       "OpenStatus   too localized  \n",
       "OwnerUserId                 \n",
       "1                      NaN  \n",
       "2                      NaN  \n",
       "3                      NaN  \n",
       "4                      NaN  \n",
       "5                      NaN  \n",
       "...                    ...  \n",
       "1567174                NaN  \n",
       "1567175                NaN  \n",
       "1567179                NaN  \n",
       "1567186                NaN  \n",
       "1567194                NaN  \n",
       "\n",
       "[554183 rows x 5 columns]"
      ]
     },
     "execution_count": 10,
     "metadata": {},
     "output_type": "execute_result"
    }
   ],
   "source": [
    "pd.pivot_table(train_df,index='OwnerUserId',columns='OpenStatus',values='PostCount',aggfunc='sum')"
   ]
  },
  {
   "cell_type": "code",
   "execution_count": 11,
   "metadata": {},
   "outputs": [
    {
     "data": {
      "text/plain": [
       "39677     1422\n",
       "4653      1145\n",
       "34537     1094\n",
       "179736     992\n",
       "149080     966\n",
       "          ... \n",
       "634149       1\n",
       "632100       1\n",
       "548123       1\n",
       "578001       1\n",
       "967206       1\n",
       "Name: OwnerUserId, Length: 543097, dtype: int64"
      ]
     },
     "execution_count": 11,
     "metadata": {},
     "output_type": "execute_result"
    }
   ],
   "source": [
    "train_df.loc[train_df['OpenStatus']=='open','OwnerUserId'].value_counts()"
   ]
  },
  {
   "cell_type": "markdown",
   "metadata": {},
   "source": [
    "We see that it does not matter on the OwnerUserId whether his question is going to be open or not as there are many user whose only one question remain open \n",
    "So, we would be dropping this column"
   ]
  },
  {
   "cell_type": "code",
   "execution_count": 12,
   "metadata": {},
   "outputs": [
    {
     "name": "stderr",
     "output_type": "stream",
     "text": [
      "/home/silvio/.conda/envs/fiep-2021/lib/python3.8/site-packages/pandas/core/frame.py:4305: SettingWithCopyWarning: \n",
      "A value is trying to be set on a copy of a slice from a DataFrame\n",
      "\n",
      "See the caveats in the documentation: https://pandas.pydata.org/pandas-docs/stable/user_guide/indexing.html#returning-a-view-versus-a-copy\n",
      "  return super().drop(\n"
     ]
    }
   ],
   "source": [
    "train_df.drop(['OwnerUserId'],axis=1,inplace=True)\n",
    "test_df.drop(['OwnerUserId'],axis=1,inplace=True)"
   ]
  },
  {
   "cell_type": "markdown",
   "metadata": {},
   "source": [
    "## Reputation at Post Created\n",
    "\n",
    "This can be a important factor. Let's take a look at it"
   ]
  },
  {
   "cell_type": "code",
   "execution_count": 13,
   "metadata": {},
   "outputs": [
    {
     "data": {
      "text/plain": [
       "-55"
      ]
     },
     "execution_count": 13,
     "metadata": {},
     "output_type": "execute_result"
    }
   ],
   "source": [
    "df_train['ReputationAtPostCreation'].min()"
   ]
  },
  {
   "cell_type": "code",
   "execution_count": 14,
   "metadata": {},
   "outputs": [
    {
     "data": {
      "text/plain": [
       "461311"
      ]
     },
     "execution_count": 14,
     "metadata": {},
     "output_type": "execute_result"
    }
   ],
   "source": [
    "df_train['ReputationAtPostCreation'].max()"
   ]
  },
  {
   "cell_type": "markdown",
   "metadata": {},
   "source": [
    "Since the data range is such high let us scale it using MinMaxScaler"
   ]
  },
  {
   "cell_type": "code",
   "execution_count": 15,
   "metadata": {},
   "outputs": [],
   "source": [
    "minimum=df_train['ReputationAtPostCreation'].min()\n",
    "maximum=df_train['ReputationAtPostCreation'].max()"
   ]
  },
  {
   "cell_type": "code",
   "execution_count": 16,
   "metadata": {},
   "outputs": [
    {
     "name": "stderr",
     "output_type": "stream",
     "text": [
      "<ipython-input-16-9d202ad43b7a>:1: SettingWithCopyWarning: \n",
      "A value is trying to be set on a copy of a slice from a DataFrame.\n",
      "Try using .loc[row_indexer,col_indexer] = value instead\n",
      "\n",
      "See the caveats in the documentation: https://pandas.pydata.org/pandas-docs/stable/user_guide/indexing.html#returning-a-view-versus-a-copy\n",
      "  train_df['ReputationAtPostCreation']=(train_df['ReputationAtPostCreation']-minimum)/(maximum-minimum)\n"
     ]
    }
   ],
   "source": [
    "train_df['ReputationAtPostCreation']=(train_df['ReputationAtPostCreation']-minimum)/(maximum-minimum)"
   ]
  },
  {
   "cell_type": "code",
   "execution_count": 17,
   "metadata": {},
   "outputs": [
    {
     "name": "stderr",
     "output_type": "stream",
     "text": [
      "<ipython-input-17-b2e238978bef>:1: SettingWithCopyWarning: \n",
      "A value is trying to be set on a copy of a slice from a DataFrame.\n",
      "Try using .loc[row_indexer,col_indexer] = value instead\n",
      "\n",
      "See the caveats in the documentation: https://pandas.pydata.org/pandas-docs/stable/user_guide/indexing.html#returning-a-view-versus-a-copy\n",
      "  test_df['ReputationAtPostCreation']=(test_df['ReputationAtPostCreation']-minimum)/(maximum-minimum)\n"
     ]
    }
   ],
   "source": [
    "test_df['ReputationAtPostCreation']=(test_df['ReputationAtPostCreation']-minimum)/(maximum-minimum)"
   ]
  },
  {
   "cell_type": "markdown",
   "metadata": {},
   "source": [
    "## OwnerUndeletedAnswerCountAtPostTime "
   ]
  },
  {
   "cell_type": "code",
   "execution_count": 18,
   "metadata": {},
   "outputs": [
    {
     "data": {
      "text/plain": [
       "0       1033600\n",
       "1        260756\n",
       "2        157825\n",
       "3        113036\n",
       "4         88229\n",
       "         ...   \n",
       "5510          1\n",
       "2403          1\n",
       "2096          1\n",
       "2405          1\n",
       "2757          1\n",
       "Name: OwnerUndeletedAnswerCountAtPostTime, Length: 2701, dtype: int64"
      ]
     },
     "execution_count": 18,
     "metadata": {},
     "output_type": "execute_result"
    }
   ],
   "source": [
    "train_df.OwnerUndeletedAnswerCountAtPostTime.value_counts()"
   ]
  },
  {
   "cell_type": "markdown",
   "metadata": {},
   "source": [
    "This feature doesnot seem to be doing anything, we will be dropping it for now."
   ]
  },
  {
   "cell_type": "code",
   "execution_count": 19,
   "metadata": {},
   "outputs": [],
   "source": [
    "train_df.drop(['OwnerUndeletedAnswerCountAtPostTime'],axis=1,inplace=True)\n",
    "test_df.drop(['OwnerUndeletedAnswerCountAtPostTime'],axis=1,inplace=True)"
   ]
  },
  {
   "cell_type": "markdown",
   "metadata": {},
   "source": [
    "## PostClosedDate"
   ]
  },
  {
   "cell_type": "markdown",
   "metadata": {},
   "source": [
    "Dropping this column as post closed date does not seem to be doing anything, so we would be dropping it "
   ]
  },
  {
   "cell_type": "code",
   "execution_count": 20,
   "metadata": {},
   "outputs": [],
   "source": [
    "train_df.drop(['PostClosedDate'],axis=1,inplace=True)\n",
    "test_df.drop(['PostClosedDate'],axis=1,inplace=True)"
   ]
  },
  {
   "cell_type": "markdown",
   "metadata": {},
   "source": [
    "## Tag1"
   ]
  },
  {
   "cell_type": "code",
   "execution_count": 21,
   "metadata": {},
   "outputs": [
    {
     "data": {
      "text/plain": [
       "124"
      ]
     },
     "execution_count": 21,
     "metadata": {},
     "output_type": "execute_result"
    }
   ],
   "source": [
    "train_df['Tag1'].isnull().sum()"
   ]
  },
  {
   "cell_type": "code",
   "execution_count": 22,
   "metadata": {},
   "outputs": [
    {
     "data": {
      "text/plain": [
       "36"
      ]
     },
     "execution_count": 22,
     "metadata": {},
     "output_type": "execute_result"
    }
   ],
   "source": [
    "test_df['Tag1'].isnull().sum()"
   ]
  },
  {
   "cell_type": "markdown",
   "metadata": {},
   "source": [
    "We can combine all the tags column into one this would help us in comparing the words which are used as tags and the words used in Title and Body."
   ]
  },
  {
   "cell_type": "code",
   "execution_count": 23,
   "metadata": {},
   "outputs": [
    {
     "name": "stderr",
     "output_type": "stream",
     "text": [
      "<ipython-input-23-b5f41263fe1d>:1: SettingWithCopyWarning: \n",
      "A value is trying to be set on a copy of a slice from a DataFrame.\n",
      "Try using .loc[row_indexer,col_indexer] = value instead\n",
      "\n",
      "See the caveats in the documentation: https://pandas.pydata.org/pandas-docs/stable/user_guide/indexing.html#returning-a-view-versus-a-copy\n",
      "  train_df['Tag1']=train_df['Tag1'].replace(np.nan,' ')\n"
     ]
    }
   ],
   "source": [
    "train_df['Tag1']=train_df['Tag1'].replace(np.nan,' ')"
   ]
  },
  {
   "cell_type": "code",
   "execution_count": 24,
   "metadata": {},
   "outputs": [
    {
     "name": "stderr",
     "output_type": "stream",
     "text": [
      "<ipython-input-24-b01b764217e9>:1: SettingWithCopyWarning: \n",
      "A value is trying to be set on a copy of a slice from a DataFrame.\n",
      "Try using .loc[row_indexer,col_indexer] = value instead\n",
      "\n",
      "See the caveats in the documentation: https://pandas.pydata.org/pandas-docs/stable/user_guide/indexing.html#returning-a-view-versus-a-copy\n",
      "  train_df['Tag2']=train_df['Tag2'].replace(np.nan,' ')\n",
      "<ipython-input-24-b01b764217e9>:2: SettingWithCopyWarning: \n",
      "A value is trying to be set on a copy of a slice from a DataFrame.\n",
      "Try using .loc[row_indexer,col_indexer] = value instead\n",
      "\n",
      "See the caveats in the documentation: https://pandas.pydata.org/pandas-docs/stable/user_guide/indexing.html#returning-a-view-versus-a-copy\n",
      "  train_df['Tag3']=train_df['Tag3'].replace(np.nan,' ')\n",
      "<ipython-input-24-b01b764217e9>:3: SettingWithCopyWarning: \n",
      "A value is trying to be set on a copy of a slice from a DataFrame.\n",
      "Try using .loc[row_indexer,col_indexer] = value instead\n",
      "\n",
      "See the caveats in the documentation: https://pandas.pydata.org/pandas-docs/stable/user_guide/indexing.html#returning-a-view-versus-a-copy\n",
      "  train_df['Tag4']=train_df['Tag4'].replace(np.nan,' ')\n",
      "<ipython-input-24-b01b764217e9>:4: SettingWithCopyWarning: \n",
      "A value is trying to be set on a copy of a slice from a DataFrame.\n",
      "Try using .loc[row_indexer,col_indexer] = value instead\n",
      "\n",
      "See the caveats in the documentation: https://pandas.pydata.org/pandas-docs/stable/user_guide/indexing.html#returning-a-view-versus-a-copy\n",
      "  train_df['Tag5']=train_df['Tag5'].replace(np.nan,' ')\n"
     ]
    }
   ],
   "source": [
    "train_df['Tag2']=train_df['Tag2'].replace(np.nan,' ')\n",
    "train_df['Tag3']=train_df['Tag3'].replace(np.nan,' ')\n",
    "train_df['Tag4']=train_df['Tag4'].replace(np.nan,' ')\n",
    "train_df['Tag5']=train_df['Tag5'].replace(np.nan,' ')"
   ]
  },
  {
   "cell_type": "code",
   "execution_count": 25,
   "metadata": {},
   "outputs": [
    {
     "name": "stderr",
     "output_type": "stream",
     "text": [
      "<ipython-input-25-35c3392f6953>:1: SettingWithCopyWarning: \n",
      "A value is trying to be set on a copy of a slice from a DataFrame.\n",
      "Try using .loc[row_indexer,col_indexer] = value instead\n",
      "\n",
      "See the caveats in the documentation: https://pandas.pydata.org/pandas-docs/stable/user_guide/indexing.html#returning-a-view-versus-a-copy\n",
      "  test_df['Tag1']=test_df['Tag1'].replace(np.nan,' ')\n",
      "<ipython-input-25-35c3392f6953>:2: SettingWithCopyWarning: \n",
      "A value is trying to be set on a copy of a slice from a DataFrame.\n",
      "Try using .loc[row_indexer,col_indexer] = value instead\n",
      "\n",
      "See the caveats in the documentation: https://pandas.pydata.org/pandas-docs/stable/user_guide/indexing.html#returning-a-view-versus-a-copy\n",
      "  test_df['Tag2']=test_df['Tag2'].replace(np.nan,' ')\n",
      "<ipython-input-25-35c3392f6953>:3: SettingWithCopyWarning: \n",
      "A value is trying to be set on a copy of a slice from a DataFrame.\n",
      "Try using .loc[row_indexer,col_indexer] = value instead\n",
      "\n",
      "See the caveats in the documentation: https://pandas.pydata.org/pandas-docs/stable/user_guide/indexing.html#returning-a-view-versus-a-copy\n",
      "  test_df['Tag3']=test_df['Tag3'].replace(np.nan,' ')\n",
      "<ipython-input-25-35c3392f6953>:4: SettingWithCopyWarning: \n",
      "A value is trying to be set on a copy of a slice from a DataFrame.\n",
      "Try using .loc[row_indexer,col_indexer] = value instead\n",
      "\n",
      "See the caveats in the documentation: https://pandas.pydata.org/pandas-docs/stable/user_guide/indexing.html#returning-a-view-versus-a-copy\n",
      "  test_df['Tag4']=test_df['Tag4'].replace(np.nan,' ')\n",
      "<ipython-input-25-35c3392f6953>:5: SettingWithCopyWarning: \n",
      "A value is trying to be set on a copy of a slice from a DataFrame.\n",
      "Try using .loc[row_indexer,col_indexer] = value instead\n",
      "\n",
      "See the caveats in the documentation: https://pandas.pydata.org/pandas-docs/stable/user_guide/indexing.html#returning-a-view-versus-a-copy\n",
      "  test_df['Tag5']=test_df['Tag5'].replace(np.nan,' ')\n"
     ]
    }
   ],
   "source": [
    "test_df['Tag1']=test_df['Tag1'].replace(np.nan,' ')\n",
    "test_df['Tag2']=test_df['Tag2'].replace(np.nan,' ')\n",
    "test_df['Tag3']=test_df['Tag3'].replace(np.nan,' ')\n",
    "test_df['Tag4']=test_df['Tag4'].replace(np.nan,' ')\n",
    "test_df['Tag5']=test_df['Tag5'].replace(np.nan,' ')"
   ]
  },
  {
   "cell_type": "code",
   "execution_count": 26,
   "metadata": {},
   "outputs": [
    {
     "data": {
      "text/plain": [
       "1308203    actionscript-3\n",
       "2939435        javascript\n",
       "1589642            python\n",
       "2299331                c#\n",
       "1999193               c++\n",
       "                ...      \n",
       "2615293                c#\n",
       "2642507               wpf\n",
       "859023          algorithm\n",
       "2971521             image\n",
       "163377          algorithm\n",
       "Name: Tag1, Length: 2696422, dtype: object"
      ]
     },
     "execution_count": 26,
     "metadata": {},
     "output_type": "execute_result"
    }
   ],
   "source": [
    "train_df['Tag1']"
   ]
  },
  {
   "cell_type": "code",
   "execution_count": 27,
   "metadata": {},
   "outputs": [
    {
     "name": "stderr",
     "output_type": "stream",
     "text": [
      "<ipython-input-27-7cc20d83976d>:1: SettingWithCopyWarning: \n",
      "A value is trying to be set on a copy of a slice from a DataFrame.\n",
      "Try using .loc[row_indexer,col_indexer] = value instead\n",
      "\n",
      "See the caveats in the documentation: https://pandas.pydata.org/pandas-docs/stable/user_guide/indexing.html#returning-a-view-versus-a-copy\n",
      "  train_df['Tags']=train_df['Tag1']+' '+train_df['Tag2']+' '+train_df['Tag3']+' '+train_df['Tag4']+' '+train_df['Tag5']\n"
     ]
    }
   ],
   "source": [
    "train_df['Tags']=train_df['Tag1']+' '+train_df['Tag2']+' '+train_df['Tag3']+' '+train_df['Tag4']+' '+train_df['Tag5']"
   ]
  },
  {
   "cell_type": "code",
   "execution_count": 28,
   "metadata": {},
   "outputs": [
    {
     "name": "stderr",
     "output_type": "stream",
     "text": [
      "<ipython-input-28-c64a7518483e>:1: SettingWithCopyWarning: \n",
      "A value is trying to be set on a copy of a slice from a DataFrame.\n",
      "Try using .loc[row_indexer,col_indexer] = value instead\n",
      "\n",
      "See the caveats in the documentation: https://pandas.pydata.org/pandas-docs/stable/user_guide/indexing.html#returning-a-view-versus-a-copy\n",
      "  test_df['Tags']=test_df['Tag1']+' '+test_df['Tag2']+' '+test_df['Tag3']+' '+test_df['Tag4']+' '+test_df['Tag5']\n"
     ]
    }
   ],
   "source": [
    "test_df['Tags']=test_df['Tag1']+' '+test_df['Tag2']+' '+test_df['Tag3']+' '+test_df['Tag4']+' '+test_df['Tag5']"
   ]
  },
  {
   "cell_type": "code",
   "execution_count": 29,
   "metadata": {},
   "outputs": [
    {
     "name": "stderr",
     "output_type": "stream",
     "text": [
      "<ipython-input-29-02703cd99465>:1: SettingWithCopyWarning: \n",
      "A value is trying to be set on a copy of a slice from a DataFrame.\n",
      "Try using .loc[row_indexer,col_indexer] = value instead\n",
      "\n",
      "See the caveats in the documentation: https://pandas.pydata.org/pandas-docs/stable/user_guide/indexing.html#returning-a-view-versus-a-copy\n",
      "  train_df['Tags']=train_df['Tags'].str.lower()\n"
     ]
    }
   ],
   "source": [
    "train_df['Tags']=train_df['Tags'].str.lower()"
   ]
  },
  {
   "cell_type": "code",
   "execution_count": 30,
   "metadata": {},
   "outputs": [
    {
     "name": "stderr",
     "output_type": "stream",
     "text": [
      "<ipython-input-30-7e572dd35cad>:1: SettingWithCopyWarning: \n",
      "A value is trying to be set on a copy of a slice from a DataFrame.\n",
      "Try using .loc[row_indexer,col_indexer] = value instead\n",
      "\n",
      "See the caveats in the documentation: https://pandas.pydata.org/pandas-docs/stable/user_guide/indexing.html#returning-a-view-versus-a-copy\n",
      "  test_df['Tags']=test_df['Tags'].str.lower()\n"
     ]
    }
   ],
   "source": [
    "test_df['Tags']=test_df['Tags'].str.lower()"
   ]
  },
  {
   "cell_type": "code",
   "execution_count": 31,
   "metadata": {},
   "outputs": [
    {
     "data": {
      "text/plain": [
       "1106754                           css-selectors        \n",
       "1168290                       visual-c++ iterator      \n",
       "3331507                     android screencasting      \n",
       "1023728                                   nuget        \n",
       "3130028                                  java jce      \n",
       "                               ...                     \n",
       "1535477                 google-chrome-extension        \n",
       "1778407                 windows networking range port  \n",
       "1574433                      android image listview    \n",
       "1636014    java graphviz callstack code-analysis-tool  \n",
       "2407644                          jquery css jplayer    \n",
       "Name: Tags, Length: 674106, dtype: object"
      ]
     },
     "execution_count": 31,
     "metadata": {},
     "output_type": "execute_result"
    }
   ],
   "source": [
    "test_df['Tags']"
   ]
  },
  {
   "cell_type": "code",
   "execution_count": 32,
   "metadata": {},
   "outputs": [
    {
     "name": "stderr",
     "output_type": "stream",
     "text": [
      "<ipython-input-32-76f14b3ca47e>:1: SettingWithCopyWarning: \n",
      "A value is trying to be set on a copy of a slice from a DataFrame.\n",
      "Try using .loc[row_indexer,col_indexer] = value instead\n",
      "\n",
      "See the caveats in the documentation: https://pandas.pydata.org/pandas-docs/stable/user_guide/indexing.html#returning-a-view-versus-a-copy\n",
      "  train_df['Tags']=train_df['Tags'].apply(lambda x:x.lstrip())\n",
      "<ipython-input-32-76f14b3ca47e>:2: SettingWithCopyWarning: \n",
      "A value is trying to be set on a copy of a slice from a DataFrame.\n",
      "Try using .loc[row_indexer,col_indexer] = value instead\n",
      "\n",
      "See the caveats in the documentation: https://pandas.pydata.org/pandas-docs/stable/user_guide/indexing.html#returning-a-view-versus-a-copy\n",
      "  train_df['Tags']=train_df['Tags'].apply(lambda x:x.rstrip())\n"
     ]
    }
   ],
   "source": [
    "train_df['Tags']=train_df['Tags'].apply(lambda x:x.lstrip())\n",
    "train_df['Tags']=train_df['Tags'].apply(lambda x:x.rstrip())\n"
   ]
  },
  {
   "cell_type": "code",
   "execution_count": 33,
   "metadata": {},
   "outputs": [
    {
     "data": {
      "text/plain": [
       "1308203                               actionscript-3\n",
       "2939435                  javascript arrays variables\n",
       "1589642             python loops for-loop text-files\n",
       "2299331                             c# .net nullable\n",
       "1999193                                  c++ dll ogg\n",
       "                             ...                    \n",
       "2615293               c# xml-serialization xmlwriter\n",
       "2642507      wpf sorting datagrid datatable dataview\n",
       "859023     algorithm artificial-intelligence game-ai\n",
       "2971521      image matlab gradient 3d-reconstruction\n",
       "163377                            algorithm dag tree\n",
       "Name: Tags, Length: 2696422, dtype: object"
      ]
     },
     "execution_count": 33,
     "metadata": {},
     "output_type": "execute_result"
    }
   ],
   "source": [
    "train_df['Tags']"
   ]
  },
  {
   "cell_type": "code",
   "execution_count": 34,
   "metadata": {},
   "outputs": [
    {
     "name": "stderr",
     "output_type": "stream",
     "text": [
      "<ipython-input-34-91106d6c1ccd>:1: SettingWithCopyWarning: \n",
      "A value is trying to be set on a copy of a slice from a DataFrame.\n",
      "Try using .loc[row_indexer,col_indexer] = value instead\n",
      "\n",
      "See the caveats in the documentation: https://pandas.pydata.org/pandas-docs/stable/user_guide/indexing.html#returning-a-view-versus-a-copy\n",
      "  test_df['Tags']=test_df['Tags'].apply(lambda x:x.lstrip())\n",
      "<ipython-input-34-91106d6c1ccd>:2: SettingWithCopyWarning: \n",
      "A value is trying to be set on a copy of a slice from a DataFrame.\n",
      "Try using .loc[row_indexer,col_indexer] = value instead\n",
      "\n",
      "See the caveats in the documentation: https://pandas.pydata.org/pandas-docs/stable/user_guide/indexing.html#returning-a-view-versus-a-copy\n",
      "  test_df['Tags']=test_df['Tags'].apply(lambda x:x.rstrip())\n"
     ]
    }
   ],
   "source": [
    "test_df['Tags']=test_df['Tags'].apply(lambda x:x.lstrip())\n",
    "test_df['Tags']=test_df['Tags'].apply(lambda x:x.rstrip())"
   ]
  },
  {
   "cell_type": "code",
   "execution_count": 35,
   "metadata": {},
   "outputs": [
    {
     "data": {
      "text/html": [
       "<div>\n",
       "<style scoped>\n",
       "    .dataframe tbody tr th:only-of-type {\n",
       "        vertical-align: middle;\n",
       "    }\n",
       "\n",
       "    .dataframe tbody tr th {\n",
       "        vertical-align: top;\n",
       "    }\n",
       "\n",
       "    .dataframe thead th {\n",
       "        text-align: right;\n",
       "    }\n",
       "</style>\n",
       "<table border=\"1\" class=\"dataframe\">\n",
       "  <thead>\n",
       "    <tr style=\"text-align: right;\">\n",
       "      <th></th>\n",
       "      <th>PostId</th>\n",
       "      <th>OwnerCreationDate</th>\n",
       "      <th>ReputationAtPostCreation</th>\n",
       "      <th>Title</th>\n",
       "      <th>BodyMarkdown</th>\n",
       "      <th>Tag1</th>\n",
       "      <th>Tag2</th>\n",
       "      <th>Tag3</th>\n",
       "      <th>Tag4</th>\n",
       "      <th>Tag5</th>\n",
       "      <th>OpenStatus</th>\n",
       "      <th>PostCount</th>\n",
       "      <th>Tags</th>\n",
       "    </tr>\n",
       "  </thead>\n",
       "  <tbody>\n",
       "    <tr>\n",
       "      <th>1308203</th>\n",
       "      <td>5443058</td>\n",
       "      <td>06/06/2010 19:25:39</td>\n",
       "      <td>0.000873</td>\n",
       "      <td>How can I create a event listener that will ex...</td>\n",
       "      <td>Alright, I've looked online at a bunch of diff...</td>\n",
       "      <td>actionscript-3</td>\n",
       "      <td></td>\n",
       "      <td></td>\n",
       "      <td></td>\n",
       "      <td></td>\n",
       "      <td>open</td>\n",
       "      <td>1</td>\n",
       "      <td>actionscript-3</td>\n",
       "    </tr>\n",
       "  </tbody>\n",
       "</table>\n",
       "</div>"
      ],
      "text/plain": [
       "          PostId    OwnerCreationDate  ReputationAtPostCreation  \\\n",
       "1308203  5443058  06/06/2010 19:25:39                  0.000873   \n",
       "\n",
       "                                                     Title  \\\n",
       "1308203  How can I create a event listener that will ex...   \n",
       "\n",
       "                                              BodyMarkdown            Tag1  \\\n",
       "1308203  Alright, I've looked online at a bunch of diff...  actionscript-3   \n",
       "\n",
       "        Tag2 Tag3 Tag4 Tag5 OpenStatus  PostCount            Tags  \n",
       "1308203                           open          1  actionscript-3  "
      ]
     },
     "execution_count": 35,
     "metadata": {},
     "output_type": "execute_result"
    }
   ],
   "source": [
    "train_df.head(1)"
   ]
  },
  {
   "cell_type": "code",
   "execution_count": 36,
   "metadata": {},
   "outputs": [
    {
     "name": "stderr",
     "output_type": "stream",
     "text": [
      "/home/silvio/.conda/envs/fiep-2021/lib/python3.8/site-packages/pandas/core/frame.py:4305: SettingWithCopyWarning: \n",
      "A value is trying to be set on a copy of a slice from a DataFrame\n",
      "\n",
      "See the caveats in the documentation: https://pandas.pydata.org/pandas-docs/stable/user_guide/indexing.html#returning-a-view-versus-a-copy\n",
      "  return super().drop(\n"
     ]
    }
   ],
   "source": [
    "# Dropping excess columns \n",
    "train_df.drop(['PostId','OwnerCreationDate','Tag1','Tag2','Tag3','Tag4','Tag5','PostCount'],axis=1,inplace=True)\n",
    "test_df.drop(['PostId','OwnerCreationDate','Tag1','Tag2','Tag3','Tag4','Tag5'],axis=1,inplace=True)"
   ]
  },
  {
   "cell_type": "code",
   "execution_count": 37,
   "metadata": {},
   "outputs": [
    {
     "data": {
      "text/html": [
       "<div>\n",
       "<style scoped>\n",
       "    .dataframe tbody tr th:only-of-type {\n",
       "        vertical-align: middle;\n",
       "    }\n",
       "\n",
       "    .dataframe tbody tr th {\n",
       "        vertical-align: top;\n",
       "    }\n",
       "\n",
       "    .dataframe thead th {\n",
       "        text-align: right;\n",
       "    }\n",
       "</style>\n",
       "<table border=\"1\" class=\"dataframe\">\n",
       "  <thead>\n",
       "    <tr style=\"text-align: right;\">\n",
       "      <th></th>\n",
       "      <th>ReputationAtPostCreation</th>\n",
       "      <th>Title</th>\n",
       "      <th>BodyMarkdown</th>\n",
       "      <th>OpenStatus</th>\n",
       "      <th>Tags</th>\n",
       "    </tr>\n",
       "  </thead>\n",
       "  <tbody>\n",
       "    <tr>\n",
       "      <th>1308203</th>\n",
       "      <td>0.000873</td>\n",
       "      <td>How can I create a event listener that will ex...</td>\n",
       "      <td>Alright, I've looked online at a bunch of diff...</td>\n",
       "      <td>open</td>\n",
       "      <td>actionscript-3</td>\n",
       "    </tr>\n",
       "    <tr>\n",
       "      <th>2939435</th>\n",
       "      <td>0.000197</td>\n",
       "      <td>How can I get this return data into dynamic ar...</td>\n",
       "      <td>Working with regular javascript, I need to sto...</td>\n",
       "      <td>open</td>\n",
       "      <td>javascript arrays variables</td>\n",
       "    </tr>\n",
       "    <tr>\n",
       "      <th>1589642</th>\n",
       "      <td>0.000262</td>\n",
       "      <td>Loops not working - Strings (Python)</td>\n",
       "      <td>I need help in reading these textfiles, someho...</td>\n",
       "      <td>open</td>\n",
       "      <td>python loops for-loop text-files</td>\n",
       "    </tr>\n",
       "    <tr>\n",
       "      <th>2299331</th>\n",
       "      <td>0.009879</td>\n",
       "      <td>Why can an int? set to null have instance prop...</td>\n",
       "      <td>I'm curious as to why the following code works...</td>\n",
       "      <td>open</td>\n",
       "      <td>c# .net nullable</td>\n",
       "    </tr>\n",
       "    <tr>\n",
       "      <th>1999193</th>\n",
       "      <td>0.000156</td>\n",
       "      <td>GetProcAddress, Error 127 (ERROR_PROC_NOT_FOUND)</td>\n",
       "      <td>I am trying to call a function defined in a DL...</td>\n",
       "      <td>open</td>\n",
       "      <td>c++ dll ogg</td>\n",
       "    </tr>\n",
       "  </tbody>\n",
       "</table>\n",
       "</div>"
      ],
      "text/plain": [
       "         ReputationAtPostCreation  \\\n",
       "1308203                  0.000873   \n",
       "2939435                  0.000197   \n",
       "1589642                  0.000262   \n",
       "2299331                  0.009879   \n",
       "1999193                  0.000156   \n",
       "\n",
       "                                                     Title  \\\n",
       "1308203  How can I create a event listener that will ex...   \n",
       "2939435  How can I get this return data into dynamic ar...   \n",
       "1589642               Loops not working - Strings (Python)   \n",
       "2299331  Why can an int? set to null have instance prop...   \n",
       "1999193   GetProcAddress, Error 127 (ERROR_PROC_NOT_FOUND)   \n",
       "\n",
       "                                              BodyMarkdown OpenStatus  \\\n",
       "1308203  Alright, I've looked online at a bunch of diff...       open   \n",
       "2939435  Working with regular javascript, I need to sto...       open   \n",
       "1589642  I need help in reading these textfiles, someho...       open   \n",
       "2299331  I'm curious as to why the following code works...       open   \n",
       "1999193  I am trying to call a function defined in a DL...       open   \n",
       "\n",
       "                                     Tags  \n",
       "1308203                    actionscript-3  \n",
       "2939435       javascript arrays variables  \n",
       "1589642  python loops for-loop text-files  \n",
       "2299331                  c# .net nullable  \n",
       "1999193                       c++ dll ogg  "
      ]
     },
     "execution_count": 37,
     "metadata": {},
     "output_type": "execute_result"
    }
   ],
   "source": [
    "train_df.head()"
   ]
  },
  {
   "cell_type": "code",
   "execution_count": 38,
   "metadata": {},
   "outputs": [
    {
     "data": {
      "text/html": [
       "<div>\n",
       "<style scoped>\n",
       "    .dataframe tbody tr th:only-of-type {\n",
       "        vertical-align: middle;\n",
       "    }\n",
       "\n",
       "    .dataframe tbody tr th {\n",
       "        vertical-align: top;\n",
       "    }\n",
       "\n",
       "    .dataframe thead th {\n",
       "        text-align: right;\n",
       "    }\n",
       "</style>\n",
       "<table border=\"1\" class=\"dataframe\">\n",
       "  <thead>\n",
       "    <tr style=\"text-align: right;\">\n",
       "      <th></th>\n",
       "      <th>ReputationAtPostCreation</th>\n",
       "      <th>Title</th>\n",
       "      <th>BodyMarkdown</th>\n",
       "      <th>OpenStatus</th>\n",
       "      <th>Tags</th>\n",
       "    </tr>\n",
       "  </thead>\n",
       "  <tbody>\n",
       "    <tr>\n",
       "      <th>1106754</th>\n",
       "      <td>0.000303</td>\n",
       "      <td>CSS selector for a class in an id</td>\n",
       "      <td>Whats wrong with this Selector?\\r\\n\\r\\n    #di...</td>\n",
       "      <td>not a real question</td>\n",
       "      <td>css-selectors</td>\n",
       "    </tr>\n",
       "    <tr>\n",
       "      <th>1168290</th>\n",
       "      <td>0.000121</td>\n",
       "      <td>VC++ 2008 Error Map/set iterator is incompatible</td>\n",
       "      <td>I have a project well running on VC++ 2003 .Ne...</td>\n",
       "      <td>open</td>\n",
       "      <td>visual-c++ iterator</td>\n",
       "    </tr>\n",
       "    <tr>\n",
       "      <th>3331507</th>\n",
       "      <td>0.000121</td>\n",
       "      <td>How do I do a android game screen-cast?</td>\n",
       "      <td>I need to make a video of the game I am develo...</td>\n",
       "      <td>open</td>\n",
       "      <td>android screencasting</td>\n",
       "    </tr>\n",
       "    <tr>\n",
       "      <th>1023728</th>\n",
       "      <td>0.006136</td>\n",
       "      <td>How to install JSON.NET using NuGet?</td>\n",
       "      <td>I am trying to download JSON.NET from NuGet.  ...</td>\n",
       "      <td>open</td>\n",
       "      <td>nuget</td>\n",
       "    </tr>\n",
       "    <tr>\n",
       "      <th>3130028</th>\n",
       "      <td>0.001043</td>\n",
       "      <td>books on understanding JCE architecture</td>\n",
       "      <td>Are there any good books available on understa...</td>\n",
       "      <td>not constructive</td>\n",
       "      <td>java jce</td>\n",
       "    </tr>\n",
       "  </tbody>\n",
       "</table>\n",
       "</div>"
      ],
      "text/plain": [
       "         ReputationAtPostCreation  \\\n",
       "1106754                  0.000303   \n",
       "1168290                  0.000121   \n",
       "3331507                  0.000121   \n",
       "1023728                  0.006136   \n",
       "3130028                  0.001043   \n",
       "\n",
       "                                                    Title  \\\n",
       "1106754                 CSS selector for a class in an id   \n",
       "1168290  VC++ 2008 Error Map/set iterator is incompatible   \n",
       "3331507           How do I do a android game screen-cast?   \n",
       "1023728              How to install JSON.NET using NuGet?   \n",
       "3130028           books on understanding JCE architecture   \n",
       "\n",
       "                                              BodyMarkdown  \\\n",
       "1106754  Whats wrong with this Selector?\\r\\n\\r\\n    #di...   \n",
       "1168290  I have a project well running on VC++ 2003 .Ne...   \n",
       "3331507  I need to make a video of the game I am develo...   \n",
       "1023728  I am trying to download JSON.NET from NuGet.  ...   \n",
       "3130028  Are there any good books available on understa...   \n",
       "\n",
       "                  OpenStatus                   Tags  \n",
       "1106754  not a real question          css-selectors  \n",
       "1168290                 open    visual-c++ iterator  \n",
       "3331507                 open  android screencasting  \n",
       "1023728                 open                  nuget  \n",
       "3130028     not constructive               java jce  "
      ]
     },
     "execution_count": 38,
     "metadata": {},
     "output_type": "execute_result"
    }
   ],
   "source": [
    "test_df.head()"
   ]
  },
  {
   "cell_type": "code",
   "execution_count": null,
   "metadata": {},
   "outputs": [],
   "source": []
  },
  {
   "cell_type": "code",
   "execution_count": 39,
   "metadata": {},
   "outputs": [],
   "source": [
    "y_train=train_df['OpenStatus']\n",
    "y_test=test_df['OpenStatus']"
   ]
  },
  {
   "cell_type": "code",
   "execution_count": 40,
   "metadata": {},
   "outputs": [
    {
     "name": "stderr",
     "output_type": "stream",
     "text": [
      "/home/silvio/.conda/envs/fiep-2021/lib/python3.8/site-packages/pandas/core/frame.py:4305: SettingWithCopyWarning: \n",
      "A value is trying to be set on a copy of a slice from a DataFrame\n",
      "\n",
      "See the caveats in the documentation: https://pandas.pydata.org/pandas-docs/stable/user_guide/indexing.html#returning-a-view-versus-a-copy\n",
      "  return super().drop(\n"
     ]
    }
   ],
   "source": [
    "train_df.drop(['ReputationAtPostCreation','OpenStatus'],axis=1,inplace=True)\n",
    "test_df.drop(['ReputationAtPostCreation','OpenStatus'],axis=1,inplace=True)"
   ]
  },
  {
   "cell_type": "code",
   "execution_count": 41,
   "metadata": {},
   "outputs": [],
   "source": [
    "y_train=y_train.map({'not a real question':0,\n",
    "  'not constructive':1,\n",
    "  'off topic':2,\n",
    "  'open':3,\n",
    "  'too localized':4})"
   ]
  },
  {
   "cell_type": "code",
   "execution_count": 42,
   "metadata": {},
   "outputs": [],
   "source": [
    "y_test=y_test.map({'not a real question':0,\n",
    "  'not constructive':1,\n",
    "  'off topic':2,\n",
    "  'open':3,\n",
    "  'too localized':4})"
   ]
  },
  {
   "cell_type": "code",
   "execution_count": 43,
   "metadata": {},
   "outputs": [
    {
     "data": {
      "text/plain": [
       "array([0, 3, 1, 2, 4])"
      ]
     },
     "execution_count": 43,
     "metadata": {},
     "output_type": "execute_result"
    }
   ],
   "source": [
    "y_test.unique()"
   ]
  },
  {
   "cell_type": "code",
   "execution_count": 44,
   "metadata": {},
   "outputs": [
    {
     "data": {
      "text/html": [
       "<div>\n",
       "<style scoped>\n",
       "    .dataframe tbody tr th:only-of-type {\n",
       "        vertical-align: middle;\n",
       "    }\n",
       "\n",
       "    .dataframe tbody tr th {\n",
       "        vertical-align: top;\n",
       "    }\n",
       "\n",
       "    .dataframe thead th {\n",
       "        text-align: right;\n",
       "    }\n",
       "</style>\n",
       "<table border=\"1\" class=\"dataframe\">\n",
       "  <thead>\n",
       "    <tr style=\"text-align: right;\">\n",
       "      <th></th>\n",
       "      <th>Title</th>\n",
       "      <th>BodyMarkdown</th>\n",
       "      <th>Tags</th>\n",
       "    </tr>\n",
       "  </thead>\n",
       "  <tbody>\n",
       "    <tr>\n",
       "      <th>1308203</th>\n",
       "      <td>How can I create a event listener that will ex...</td>\n",
       "      <td>Alright, I've looked online at a bunch of diff...</td>\n",
       "      <td>actionscript-3</td>\n",
       "    </tr>\n",
       "    <tr>\n",
       "      <th>2939435</th>\n",
       "      <td>How can I get this return data into dynamic ar...</td>\n",
       "      <td>Working with regular javascript, I need to sto...</td>\n",
       "      <td>javascript arrays variables</td>\n",
       "    </tr>\n",
       "    <tr>\n",
       "      <th>1589642</th>\n",
       "      <td>Loops not working - Strings (Python)</td>\n",
       "      <td>I need help in reading these textfiles, someho...</td>\n",
       "      <td>python loops for-loop text-files</td>\n",
       "    </tr>\n",
       "    <tr>\n",
       "      <th>2299331</th>\n",
       "      <td>Why can an int? set to null have instance prop...</td>\n",
       "      <td>I'm curious as to why the following code works...</td>\n",
       "      <td>c# .net nullable</td>\n",
       "    </tr>\n",
       "    <tr>\n",
       "      <th>1999193</th>\n",
       "      <td>GetProcAddress, Error 127 (ERROR_PROC_NOT_FOUND)</td>\n",
       "      <td>I am trying to call a function defined in a DL...</td>\n",
       "      <td>c++ dll ogg</td>\n",
       "    </tr>\n",
       "  </tbody>\n",
       "</table>\n",
       "</div>"
      ],
      "text/plain": [
       "                                                     Title  \\\n",
       "1308203  How can I create a event listener that will ex...   \n",
       "2939435  How can I get this return data into dynamic ar...   \n",
       "1589642               Loops not working - Strings (Python)   \n",
       "2299331  Why can an int? set to null have instance prop...   \n",
       "1999193   GetProcAddress, Error 127 (ERROR_PROC_NOT_FOUND)   \n",
       "\n",
       "                                              BodyMarkdown  \\\n",
       "1308203  Alright, I've looked online at a bunch of diff...   \n",
       "2939435  Working with regular javascript, I need to sto...   \n",
       "1589642  I need help in reading these textfiles, someho...   \n",
       "2299331  I'm curious as to why the following code works...   \n",
       "1999193  I am trying to call a function defined in a DL...   \n",
       "\n",
       "                                     Tags  \n",
       "1308203                    actionscript-3  \n",
       "2939435       javascript arrays variables  \n",
       "1589642  python loops for-loop text-files  \n",
       "2299331                  c# .net nullable  \n",
       "1999193                       c++ dll ogg  "
      ]
     },
     "execution_count": 44,
     "metadata": {},
     "output_type": "execute_result"
    }
   ],
   "source": [
    "train_df.head()"
   ]
  },
  {
   "cell_type": "code",
   "execution_count": 45,
   "metadata": {},
   "outputs": [
    {
     "data": {
      "text/html": [
       "<div>\n",
       "<style scoped>\n",
       "    .dataframe tbody tr th:only-of-type {\n",
       "        vertical-align: middle;\n",
       "    }\n",
       "\n",
       "    .dataframe tbody tr th {\n",
       "        vertical-align: top;\n",
       "    }\n",
       "\n",
       "    .dataframe thead th {\n",
       "        text-align: right;\n",
       "    }\n",
       "</style>\n",
       "<table border=\"1\" class=\"dataframe\">\n",
       "  <thead>\n",
       "    <tr style=\"text-align: right;\">\n",
       "      <th></th>\n",
       "      <th>Title</th>\n",
       "      <th>BodyMarkdown</th>\n",
       "      <th>Tags</th>\n",
       "    </tr>\n",
       "  </thead>\n",
       "  <tbody>\n",
       "    <tr>\n",
       "      <th>1106754</th>\n",
       "      <td>CSS selector for a class in an id</td>\n",
       "      <td>Whats wrong with this Selector?\\r\\n\\r\\n    #di...</td>\n",
       "      <td>css-selectors</td>\n",
       "    </tr>\n",
       "    <tr>\n",
       "      <th>1168290</th>\n",
       "      <td>VC++ 2008 Error Map/set iterator is incompatible</td>\n",
       "      <td>I have a project well running on VC++ 2003 .Ne...</td>\n",
       "      <td>visual-c++ iterator</td>\n",
       "    </tr>\n",
       "    <tr>\n",
       "      <th>3331507</th>\n",
       "      <td>How do I do a android game screen-cast?</td>\n",
       "      <td>I need to make a video of the game I am develo...</td>\n",
       "      <td>android screencasting</td>\n",
       "    </tr>\n",
       "    <tr>\n",
       "      <th>1023728</th>\n",
       "      <td>How to install JSON.NET using NuGet?</td>\n",
       "      <td>I am trying to download JSON.NET from NuGet.  ...</td>\n",
       "      <td>nuget</td>\n",
       "    </tr>\n",
       "    <tr>\n",
       "      <th>3130028</th>\n",
       "      <td>books on understanding JCE architecture</td>\n",
       "      <td>Are there any good books available on understa...</td>\n",
       "      <td>java jce</td>\n",
       "    </tr>\n",
       "  </tbody>\n",
       "</table>\n",
       "</div>"
      ],
      "text/plain": [
       "                                                    Title  \\\n",
       "1106754                 CSS selector for a class in an id   \n",
       "1168290  VC++ 2008 Error Map/set iterator is incompatible   \n",
       "3331507           How do I do a android game screen-cast?   \n",
       "1023728              How to install JSON.NET using NuGet?   \n",
       "3130028           books on understanding JCE architecture   \n",
       "\n",
       "                                              BodyMarkdown  \\\n",
       "1106754  Whats wrong with this Selector?\\r\\n\\r\\n    #di...   \n",
       "1168290  I have a project well running on VC++ 2003 .Ne...   \n",
       "3331507  I need to make a video of the game I am develo...   \n",
       "1023728  I am trying to download JSON.NET from NuGet.  ...   \n",
       "3130028  Are there any good books available on understa...   \n",
       "\n",
       "                          Tags  \n",
       "1106754          css-selectors  \n",
       "1168290    visual-c++ iterator  \n",
       "3331507  android screencasting  \n",
       "1023728                  nuget  \n",
       "3130028               java jce  "
      ]
     },
     "execution_count": 45,
     "metadata": {},
     "output_type": "execute_result"
    }
   ],
   "source": [
    "test_df.head()"
   ]
  },
  {
   "cell_type": "code",
   "execution_count": 46,
   "metadata": {},
   "outputs": [
    {
     "name": "stderr",
     "output_type": "stream",
     "text": [
      "<ipython-input-46-1638ff1e3474>:1: SettingWithCopyWarning: \n",
      "A value is trying to be set on a copy of a slice from a DataFrame.\n",
      "Try using .loc[row_indexer,col_indexer] = value instead\n",
      "\n",
      "See the caveats in the documentation: https://pandas.pydata.org/pandas-docs/stable/user_guide/indexing.html#returning-a-view-versus-a-copy\n",
      "  train_df['Text']=train_df['Title']+' '+train_df['BodyMarkdown']+' '+train_df['Tags']\n",
      "<ipython-input-46-1638ff1e3474>:2: SettingWithCopyWarning: \n",
      "A value is trying to be set on a copy of a slice from a DataFrame.\n",
      "Try using .loc[row_indexer,col_indexer] = value instead\n",
      "\n",
      "See the caveats in the documentation: https://pandas.pydata.org/pandas-docs/stable/user_guide/indexing.html#returning-a-view-versus-a-copy\n",
      "  test_df['Text']=test_df['Title']+' '+test_df['BodyMarkdown']+' '+test_df['Tags']\n"
     ]
    }
   ],
   "source": [
    "train_df['Text']=train_df['Title']+' '+train_df['BodyMarkdown']+' '+train_df['Tags']\n",
    "test_df['Text']=test_df['Title']+' '+test_df['BodyMarkdown']+' '+test_df['Tags']"
   ]
  },
  {
   "cell_type": "code",
   "execution_count": 47,
   "metadata": {},
   "outputs": [
    {
     "name": "stderr",
     "output_type": "stream",
     "text": [
      "/home/silvio/.conda/envs/fiep-2021/lib/python3.8/site-packages/pandas/core/frame.py:4305: SettingWithCopyWarning: \n",
      "A value is trying to be set on a copy of a slice from a DataFrame\n",
      "\n",
      "See the caveats in the documentation: https://pandas.pydata.org/pandas-docs/stable/user_guide/indexing.html#returning-a-view-versus-a-copy\n",
      "  return super().drop(\n"
     ]
    }
   ],
   "source": [
    "train_df.drop(['Title','BodyMarkdown','Tags'],axis=1,inplace=True)\n",
    "test_df.drop(['Title','BodyMarkdown','Tags'],axis=1,inplace=True)"
   ]
  },
  {
   "cell_type": "code",
   "execution_count": 48,
   "metadata": {},
   "outputs": [],
   "source": [
    "train_df.reset_index(inplace=True)\n",
    "test_df.reset_index(inplace=True)"
   ]
  },
  {
   "cell_type": "code",
   "execution_count": 49,
   "metadata": {},
   "outputs": [],
   "source": [
    "train_df.drop(['index'],inplace=True,axis=1)"
   ]
  },
  {
   "cell_type": "code",
   "execution_count": 50,
   "metadata": {},
   "outputs": [],
   "source": [
    "test_df.drop(['index'],axis=1,inplace=True)"
   ]
  },
  {
   "cell_type": "code",
   "execution_count": 51,
   "metadata": {},
   "outputs": [
    {
     "data": {
      "text/html": [
       "<div>\n",
       "<style scoped>\n",
       "    .dataframe tbody tr th:only-of-type {\n",
       "        vertical-align: middle;\n",
       "    }\n",
       "\n",
       "    .dataframe tbody tr th {\n",
       "        vertical-align: top;\n",
       "    }\n",
       "\n",
       "    .dataframe thead th {\n",
       "        text-align: right;\n",
       "    }\n",
       "</style>\n",
       "<table border=\"1\" class=\"dataframe\">\n",
       "  <thead>\n",
       "    <tr style=\"text-align: right;\">\n",
       "      <th></th>\n",
       "      <th>Text</th>\n",
       "    </tr>\n",
       "  </thead>\n",
       "  <tbody>\n",
       "    <tr>\n",
       "      <th>0</th>\n",
       "      <td>How can I create a event listener that will ex...</td>\n",
       "    </tr>\n",
       "    <tr>\n",
       "      <th>1</th>\n",
       "      <td>How can I get this return data into dynamic ar...</td>\n",
       "    </tr>\n",
       "    <tr>\n",
       "      <th>2</th>\n",
       "      <td>Loops not working - Strings (Python) I need he...</td>\n",
       "    </tr>\n",
       "    <tr>\n",
       "      <th>3</th>\n",
       "      <td>Why can an int? set to null have instance prop...</td>\n",
       "    </tr>\n",
       "    <tr>\n",
       "      <th>4</th>\n",
       "      <td>GetProcAddress, Error 127 (ERROR_PROC_NOT_FOUN...</td>\n",
       "    </tr>\n",
       "  </tbody>\n",
       "</table>\n",
       "</div>"
      ],
      "text/plain": [
       "                                                Text\n",
       "0  How can I create a event listener that will ex...\n",
       "1  How can I get this return data into dynamic ar...\n",
       "2  Loops not working - Strings (Python) I need he...\n",
       "3  Why can an int? set to null have instance prop...\n",
       "4  GetProcAddress, Error 127 (ERROR_PROC_NOT_FOUN..."
      ]
     },
     "execution_count": 51,
     "metadata": {},
     "output_type": "execute_result"
    }
   ],
   "source": [
    "train_df.head()"
   ]
  },
  {
   "cell_type": "markdown",
   "metadata": {},
   "source": [
    "# Building the tensorflow model\n"
   ]
  },
  {
   "cell_type": "code",
   "execution_count": null,
   "metadata": {},
   "outputs": [],
   "source": [
    "from tensorflow.keras.preprocessing.text import Tokenizer\n",
    "max_words=10000\n",
    "tokenizer=Tokenizer(max_words)\n",
    "tokenizer.fit_on_texts(train_df['Text'])\n",
    "sequence_train=tokenizer.texts_to_sequences(train_df['Text'])\n",
    "sequence_test=tokenizer.texts_to_sequences(test_df['Text'])"
   ]
  },
  {
   "cell_type": "code",
   "execution_count": null,
   "metadata": {},
   "outputs": [],
   "source": [
    "word_2_vec=tokenizer.word_index\n",
    "V=len(word_2_vec)\n",
    "print('Dataset has {} number of independent tokens'.format(V))"
   ]
  },
  {
   "cell_type": "code",
   "execution_count": null,
   "metadata": {},
   "outputs": [],
   "source": [
    "from tensorflow.keras.preprocessing.sequence import pad_sequences\n",
    "data_train=pad_sequences(sequence_train)\n",
    "data_train.shape"
   ]
  },
  {
   "cell_type": "code",
   "execution_count": null,
   "metadata": {},
   "outputs": [],
   "source": [
    "T=data_train.shape[1]\n",
    "data_test=pad_sequences(sequence_test,maxlen=T)\n",
    "data_test.shape\n"
   ]
  },
  {
   "cell_type": "code",
   "execution_count": null,
   "metadata": {},
   "outputs": [],
   "source": [
    "from tensorflow.keras.layers import Input,Conv1D,MaxPooling1D,Dense,GlobalMaxPooling1D,Embedding\n",
    "from tensorflow.keras.models import Model\n",
    "D=20\n",
    "i=Input((T,))\n",
    "x=Embedding(V+1,D)(i)\n",
    "x=Conv1D(32,3,activation='relu')(x)\n",
    "x=MaxPooling1D(3)(x)\n",
    "x=Conv1D(64,3,activation='relu')(x)\n",
    "x=MaxPooling1D(3)(x)\n",
    "x=Conv1D(128,3,activation='relu')(x)\n",
    "x=GlobalMaxPooling1D()(x)\n",
    "x=Dense(5,activation='softmax')(x)\n",
    "model=Model(i,x)\n",
    "model.summary()"
   ]
  },
  {
   "cell_type": "code",
   "execution_count": null,
   "metadata": {},
   "outputs": [],
   "source": [
    "model.compile(loss='sparse_categorical_crossentropy',optimizer='adam',metrics=['accuracy'])\n",
    "cnn_senti=model.fit(data_train,y_train,validation_data=(data_test,y_test),batch_size=100,epochs=5)"
   ]
  },
  {
   "cell_type": "code",
   "execution_count": null,
   "metadata": {},
   "outputs": [],
   "source": [
    "model.predict(data_test)"
   ]
  },
  {
   "cell_type": "code",
   "execution_count": null,
   "metadata": {},
   "outputs": [],
   "source": [
    "y_pred=model.predict(data_test)"
   ]
  },
  {
   "cell_type": "code",
   "execution_count": null,
   "metadata": {},
   "outputs": [],
   "source": [
    "y_pred_final=np.argmax(y_pred,axis=1)\n",
    "y_pred_final"
   ]
  },
  {
   "cell_type": "markdown",
   "metadata": {},
   "source": [
    "## Scoring"
   ]
  },
  {
   "cell_type": "code",
   "execution_count": null,
   "metadata": {},
   "outputs": [],
   "source": [
    "from sklearn.metrics import confusion_matrix,classification_report\n",
    "import seaborn as sns"
   ]
  },
  {
   "cell_type": "code",
   "execution_count": null,
   "metadata": {},
   "outputs": [],
   "source": [
    "cm=confusion_matrix(y_test,y_pred_final)\n",
    "ax=sns.heatmap(cm,cmap='Blues',annot=True,fmt=' ')\n",
    "ax.set_title('Confusion Matrix')\n",
    "ax.set_xlabel('Y Test')\n",
    "ax.set_ylabel('Y Pred')"
   ]
  },
  {
   "cell_type": "code",
   "execution_count": null,
   "metadata": {},
   "outputs": [],
   "source": [
    "print(classification_report(y_test,y_pred_final))"
   ]
  },
  {
   "cell_type": "code",
   "execution_count": null,
   "metadata": {},
   "outputs": [],
   "source": [
    "df_submission=pd.DataFrame(test_post_id,columns=['PostId'])\n",
    "df_submission.head()"
   ]
  },
  {
   "cell_type": "code",
   "execution_count": null,
   "metadata": {},
   "outputs": [],
   "source": [
    "test_post_id.reset_index(drop=True)"
   ]
  },
  {
   "cell_type": "code",
   "execution_count": null,
   "metadata": {},
   "outputs": [],
   "source": [
    "df_submission_1=pd.DataFrame(y_pred,columns=[0,1,2,3,4])"
   ]
  },
  {
   "cell_type": "code",
   "execution_count": null,
   "metadata": {},
   "outputs": [],
   "source": [
    "df_submission_1"
   ]
  },
  {
   "cell_type": "code",
   "execution_count": null,
   "metadata": {},
   "outputs": [],
   "source": [
    "df_submission_1['PostId']=list(test_post_id)"
   ]
  },
  {
   "cell_type": "code",
   "execution_count": null,
   "metadata": {},
   "outputs": [],
   "source": [
    "columns=['PostId',0,1,2,3,4]\n",
    "df_submission_1=df_submission_1[columns]\n",
    "df_submission_1"
   ]
  },
  {
   "cell_type": "code",
   "execution_count": null,
   "metadata": {},
   "outputs": [],
   "source": [
    "df_submission_1.columns"
   ]
  },
  {
   "cell_type": "code",
   "execution_count": null,
   "metadata": {},
   "outputs": [],
   "source": [
    "df_submission_1['Sum']=df_submission_1[0]+df_submission_1[1]+df_submission_1[2]+df_submission_1[3]+df_submission_1[4]\n"
   ]
  },
  {
   "cell_type": "code",
   "execution_count": null,
   "metadata": {},
   "outputs": [],
   "source": [
    "df_submission_1"
   ]
  },
  {
   "cell_type": "code",
   "execution_count": 5,
   "metadata": {},
   "outputs": [
    {
     "data": {
      "text/html": [
       "<div>\n",
       "<style scoped>\n",
       "    .dataframe tbody tr th:only-of-type {\n",
       "        vertical-align: middle;\n",
       "    }\n",
       "\n",
       "    .dataframe tbody tr th {\n",
       "        vertical-align: top;\n",
       "    }\n",
       "\n",
       "    .dataframe thead th {\n",
       "        text-align: right;\n",
       "    }\n",
       "</style>\n",
       "<table border=\"1\" class=\"dataframe\">\n",
       "  <thead>\n",
       "    <tr style=\"text-align: right;\">\n",
       "      <th></th>\n",
       "      <th>OpenStatus_cat</th>\n",
       "    </tr>\n",
       "  </thead>\n",
       "  <tbody>\n",
       "    <tr>\n",
       "      <th>count</th>\n",
       "      <td>3.370528e+06</td>\n",
       "    </tr>\n",
       "    <tr>\n",
       "      <th>mean</th>\n",
       "      <td>4.078233e-02</td>\n",
       "    </tr>\n",
       "    <tr>\n",
       "      <th>std</th>\n",
       "      <td>3.151514e-01</td>\n",
       "    </tr>\n",
       "    <tr>\n",
       "      <th>min</th>\n",
       "      <td>0.000000e+00</td>\n",
       "    </tr>\n",
       "    <tr>\n",
       "      <th>25%</th>\n",
       "      <td>0.000000e+00</td>\n",
       "    </tr>\n",
       "    <tr>\n",
       "      <th>50%</th>\n",
       "      <td>0.000000e+00</td>\n",
       "    </tr>\n",
       "    <tr>\n",
       "      <th>75%</th>\n",
       "      <td>0.000000e+00</td>\n",
       "    </tr>\n",
       "    <tr>\n",
       "      <th>max</th>\n",
       "      <td>4.000000e+00</td>\n",
       "    </tr>\n",
       "  </tbody>\n",
       "</table>\n",
       "</div>"
      ],
      "text/plain": [
       "       OpenStatus_cat\n",
       "count    3.370528e+06\n",
       "mean     4.078233e-02\n",
       "std      3.151514e-01\n",
       "min      0.000000e+00\n",
       "25%      0.000000e+00\n",
       "50%      0.000000e+00\n",
       "75%      0.000000e+00\n",
       "max      4.000000e+00"
      ]
     },
     "execution_count": 5,
     "metadata": {},
     "output_type": "execute_result"
    }
   ],
   "source": [
    "import pandas as pd\n",
    "dfparquet=pd.read_parquet('/home/silvio/stackOverflow-prep.parquet', engine='pyarrow')\n",
    "dfparquet.describe()"
   ]
  },
  {
   "cell_type": "code",
   "execution_count": 3,
   "metadata": {},
   "outputs": [
    {
     "data": {
      "text/plain": [
       "(3370528, 3)"
      ]
     },
     "execution_count": 3,
     "metadata": {},
     "output_type": "execute_result"
    }
   ],
   "source": [
    "dfparquet.shape"
   ]
  },
  {
   "cell_type": "code",
   "execution_count": 4,
   "metadata": {},
   "outputs": [
    {
     "data": {
      "text/html": [
       "<div>\n",
       "<style scoped>\n",
       "    .dataframe tbody tr th:only-of-type {\n",
       "        vertical-align: middle;\n",
       "    }\n",
       "\n",
       "    .dataframe tbody tr th {\n",
       "        vertical-align: top;\n",
       "    }\n",
       "\n",
       "    .dataframe thead th {\n",
       "        text-align: right;\n",
       "    }\n",
       "</style>\n",
       "<table border=\"1\" class=\"dataframe\">\n",
       "  <thead>\n",
       "    <tr style=\"text-align: right;\">\n",
       "      <th></th>\n",
       "      <th>text</th>\n",
       "      <th>OpenStatus_cat</th>\n",
       "      <th>new_text</th>\n",
       "    </tr>\n",
       "  </thead>\n",
       "  <tbody>\n",
       "    <tr>\n",
       "      <th>0</th>\n",
       "      <td>Decimal vs Double? I'm new to C#, and I want t...</td>\n",
       "      <td>0.0</td>\n",
       "      <td>[Decimal vs Double? I'm new to C#, and I want ...</td>\n",
       "    </tr>\n",
       "    <tr>\n",
       "      <th>1</th>\n",
       "      <td>Percentage width child in absolutely positione...</td>\n",
       "      <td>0.0</td>\n",
       "      <td>[Percentage width child in absolutely position...</td>\n",
       "    </tr>\n",
       "    <tr>\n",
       "      <th>2</th>\n",
       "      <td>Tools for porting J# code to C# Are there any ...</td>\n",
       "      <td>0.0</td>\n",
       "      <td>[Tools for porting J# code to C# Are there any...</td>\n",
       "    </tr>\n",
       "  </tbody>\n",
       "</table>\n",
       "</div>"
      ],
      "text/plain": [
       "                                                text  OpenStatus_cat  \\\n",
       "0  Decimal vs Double? I'm new to C#, and I want t...             0.0   \n",
       "1  Percentage width child in absolutely positione...             0.0   \n",
       "2  Tools for porting J# code to C# Are there any ...             0.0   \n",
       "\n",
       "                                            new_text  \n",
       "0  [Decimal vs Double? I'm new to C#, and I want ...  \n",
       "1  [Percentage width child in absolutely position...  \n",
       "2  [Tools for porting J# code to C# Are there any...  "
      ]
     },
     "execution_count": 4,
     "metadata": {},
     "output_type": "execute_result"
    }
   ],
   "source": [
    "dfparquet.head(3)"
   ]
  }
 ],
 "metadata": {
  "kernelspec": {
   "display_name": "Python 3",
   "language": "python",
   "name": "python3"
  },
  "language_info": {
   "codemirror_mode": {
    "name": "ipython",
    "version": 3
   },
   "file_extension": ".py",
   "mimetype": "text/x-python",
   "name": "python",
   "nbconvert_exporter": "python",
   "pygments_lexer": "ipython3",
   "version": "3.8.3"
  }
 },
 "nbformat": 4,
 "nbformat_minor": 4
}
