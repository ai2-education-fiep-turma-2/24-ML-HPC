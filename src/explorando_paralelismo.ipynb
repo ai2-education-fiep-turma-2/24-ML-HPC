{
 "cells": [
  {
   "cell_type": "markdown",
   "metadata": {},
   "source": [
    "## Exemplo de otimização com thread"
   ]
  },
  {
   "cell_type": "markdown",
   "metadata": {},
   "source": [
    "## versão single thread"
   ]
  },
  {
   "cell_type": "code",
   "execution_count": 1,
   "metadata": {},
   "outputs": [
    {
     "name": "stdout",
     "output_type": "stream",
     "text": [
      "Time - 2.1578071117401123\n"
     ]
    }
   ],
   "source": [
    "import time\n",
    "from threading import Thread\n",
    "\n",
    "COUNT = 50000000\n",
    "\n",
    "def countdown(n):\n",
    "    while n>0:\n",
    "        n -= 1\n",
    "\n",
    "start = time.time()\n",
    "countdown(COUNT)\n",
    "end = time.time()\n",
    "\n",
    "print('Time -', end - start)\n"
   ]
  },
  {
   "cell_type": "markdown",
   "metadata": {},
   "source": [
    "## versão multi thread"
   ]
  },
  {
   "cell_type": "code",
   "execution_count": 2,
   "metadata": {},
   "outputs": [
    {
     "name": "stdout",
     "output_type": "stream",
     "text": [
      "Time  - 7.298934698104858\n"
     ]
    }
   ],
   "source": [
    "import time\n",
    "from threading import Thread\n",
    "\n",
    "COUNT = 50000000\n",
    "\n",
    "def countdown(n):\n",
    "    while n>0:\n",
    "        n -= 1\n",
    "\n",
    "t1 = Thread(target=countdown, args=(COUNT//2,))\n",
    "t2 = Thread(target=countdown, args=(COUNT//2,))\n",
    "\n",
    "start = time.time()\n",
    "t1.start()\n",
    "t2.start()\n",
    "t1.join()\n",
    "t2.join()\n",
    "end = time.time()\n",
    "\n",
    "print('Time  -', end - start)"
   ]
  },
  {
   "cell_type": "markdown",
   "metadata": {},
   "source": [
    "## paralelizando predições"
   ]
  },
  {
   "cell_type": "code",
   "execution_count": 3,
   "metadata": {},
   "outputs": [],
   "source": [
    "import tensorflow as tf\n",
    "from tensorflow import keras\n",
    "from tensorflow.keras.utils import to_categorical\n",
    "import tensorflow.keras.datasets.mnist as mnist\n",
    "\n",
    "from timeit import default_timer as timer\n",
    "import numpy as np\n",
    "\n",
    "import threading"
   ]
  },
  {
   "cell_type": "code",
   "execution_count": 4,
   "metadata": {},
   "outputs": [],
   "source": [
    "# Preparação para CNN\n",
    "(train_images, train_labels), (test_images, test_labels) = mnist.load_data()\n",
    "\n",
    "train_images = train_images.reshape((60000, 28, 28, 1))\n",
    "x_train = train_images.astype('float32') / 255\n",
    "\n",
    "test_images = test_images.reshape((10000, 28, 28, 1))\n",
    "x_test = test_images.astype('float32') / 255\n",
    "\n",
    "y_train = to_categorical(train_labels)\n",
    "y_test = to_categorical(test_labels)"
   ]
  },
  {
   "cell_type": "markdown",
   "metadata": {},
   "source": [
    "# executando uma predição"
   ]
  },
  {
   "cell_type": "code",
   "execution_count": 5,
   "metadata": {},
   "outputs": [
    {
     "name": "stdout",
     "output_type": "stream",
     "text": [
      "Model: \"sequential\"\n",
      "_________________________________________________________________\n",
      "Layer (type)                 Output Shape              Param #   \n",
      "=================================================================\n",
      "conv2d (Conv2D)              (None, 26, 26, 32)        320       \n",
      "_________________________________________________________________\n",
      "max_pooling2d (MaxPooling2D) (None, 13, 13, 32)        0         \n",
      "_________________________________________________________________\n",
      "conv2d_1 (Conv2D)            (None, 11, 11, 64)        18496     \n",
      "_________________________________________________________________\n",
      "max_pooling2d_1 (MaxPooling2 (None, 5, 5, 64)          0         \n",
      "_________________________________________________________________\n",
      "conv2d_2 (Conv2D)            (None, 3, 3, 64)          36928     \n",
      "_________________________________________________________________\n",
      "flatten (Flatten)            (None, 576)               0         \n",
      "_________________________________________________________________\n",
      "dense (Dense)                (None, 64)                36928     \n",
      "_________________________________________________________________\n",
      "dense_1 (Dense)              (None, 10)                650       \n",
      "=================================================================\n",
      "Total params: 93,322\n",
      "Trainable params: 93,322\n",
      "Non-trainable params: 0\n",
      "_________________________________________________________________\n",
      "tempo total:  6.162130756070837\n"
     ]
    }
   ],
   "source": [
    "\n",
    "\n",
    "start = timer()\n",
    "\n",
    "new_model = tf.keras.models.load_model('MnistModel.h5')\n",
    "new_model.summary()\n",
    "res=new_model.predict(train_images)\n",
    "#print(res.shape)\n",
    "\n",
    "end = timer()\n",
    "print('tempo total: ',end - start)"
   ]
  },
  {
   "cell_type": "markdown",
   "metadata": {},
   "source": [
    "# executando diversas predições"
   ]
  },
  {
   "cell_type": "code",
   "execution_count": 7,
   "metadata": {},
   "outputs": [
    {
     "name": "stdout",
     "output_type": "stream",
     "text": [
      "Model: \"sequential\"\n",
      "_________________________________________________________________\n",
      "Layer (type)                 Output Shape              Param #   \n",
      "=================================================================\n",
      "conv2d (Conv2D)              (None, 26, 26, 32)        320       \n",
      "_________________________________________________________________\n",
      "max_pooling2d (MaxPooling2D) (None, 13, 13, 32)        0         \n",
      "_________________________________________________________________\n",
      "conv2d_1 (Conv2D)            (None, 11, 11, 64)        18496     \n",
      "_________________________________________________________________\n",
      "max_pooling2d_1 (MaxPooling2 (None, 5, 5, 64)          0         \n",
      "_________________________________________________________________\n",
      "conv2d_2 (Conv2D)            (None, 3, 3, 64)          36928     \n",
      "_________________________________________________________________\n",
      "flatten (Flatten)            (None, 576)               0         \n",
      "_________________________________________________________________\n",
      "dense (Dense)                (None, 64)                36928     \n",
      "_________________________________________________________________\n",
      "dense_1 (Dense)              (None, 10)                650       \n",
      "=================================================================\n",
      "Total params: 93,322\n",
      "Trainable params: 93,322\n",
      "Non-trainable params: 0\n",
      "_________________________________________________________________\n",
      "(50000, 10)\n",
      "(50000, 10)\n",
      "(50000, 10)\n",
      "(50000, 10)\n",
      "(50000, 10)\n",
      "(50000, 10)\n",
      "(50000, 10)\n",
      "(50000, 10)\n",
      "(50000, 10)\n",
      "(50000, 10)\n",
      "tempo total:  28.88178777799476\n"
     ]
    }
   ],
   "source": [
    "new_model = tf.keras.models.load_model('MnistModel.h5')\n",
    "new_model.summary()\n",
    "\n",
    "\n",
    "\n",
    "start = timer()\n",
    "\n",
    "for i in range(10):\n",
    "    rand=train_images[np.random.randint(train_images.shape[0], size=50000), :,:,:]\n",
    "    res=new_model.predict(rand)\n",
    "    print(res.shape)\n",
    "\n",
    "end = timer()\n",
    "print('tempo total: ',end - start)"
   ]
  },
  {
   "cell_type": "markdown",
   "metadata": {},
   "source": [
    "# paralelizando execuções em threads (1 por thread)"
   ]
  },
  {
   "cell_type": "code",
   "execution_count": 10,
   "metadata": {},
   "outputs": [],
   "source": [
    "def thread_function(name):\n",
    "    print(name)\n",
    "    rand=train_images[np.random.randint(train_images.shape[0], size=50000), :,:,:]\n",
    "    res=new_model.predict(rand)\n",
    "    print(res.shape)"
   ]
  },
  {
   "cell_type": "code",
   "execution_count": 11,
   "metadata": {},
   "outputs": [
    {
     "name": "stdout",
     "output_type": "stream",
     "text": [
      "0\n",
      "1\n",
      "2\n",
      "3\n",
      "4\n",
      "5\n",
      "6\n",
      "7\n",
      "89\n",
      "\n",
      "(50000, 10)\n",
      "tempo total:  10.858237707987428\n",
      "(50000, 10)\n",
      "(50000, 10)\n",
      "(50000, 10)\n",
      "(50000, 10)\n",
      "(50000, 10)\n",
      "(50000, 10)\n",
      "(50000, 10)\n",
      "(50000, 10)\n",
      "(50000, 10)\n"
     ]
    }
   ],
   "source": [
    "start = timer()\n",
    "\n",
    "for i in range(10):\n",
    "    x = threading.Thread(target=thread_function,args=(i,))\n",
    "    x.start()\n",
    "x.join()\n",
    "\n",
    "end = timer()\n",
    "print('tempo total: ',end - start)"
   ]
  },
  {
   "cell_type": "markdown",
   "metadata": {},
   "source": [
    "# paralelizando execuções em threads (3 por thread)"
   ]
  },
  {
   "cell_type": "code",
   "execution_count": 13,
   "metadata": {},
   "outputs": [],
   "source": [
    "def thread_function(name):\n",
    "    if (name==2):\n",
    "        am=4\n",
    "    else:\n",
    "        am=3\n",
    "    for i in range(am):\n",
    "        print(name)\n",
    "        rand=train_images[np.random.randint(train_images.shape[0], size=50000), :,:,:]\n",
    "        res=new_model.predict(rand)\n",
    "        print(res.shape)"
   ]
  },
  {
   "cell_type": "code",
   "execution_count": 14,
   "metadata": {},
   "outputs": [
    {
     "name": "stdout",
     "output_type": "stream",
     "text": [
      "0\n",
      "1\n",
      "2\n",
      "(50000, 10)\n",
      "0\n",
      "(50000, 10)\n",
      "2\n",
      "(50000, 10)\n",
      "1\n",
      "(50000, 10)\n",
      "2\n",
      "(50000, 10)\n",
      "0\n",
      "(50000, 10)\n",
      "1\n",
      "(50000, 10)\n",
      "(50000, 10)\n",
      "(50000, 10)\n",
      "2\n",
      "(50000, 10)\n",
      "tempo total:  12.488636401947588\n"
     ]
    }
   ],
   "source": [
    "start = timer()\n",
    "\n",
    "for i in range(3):\n",
    "    x = threading.Thread(target=thread_function,args=(i,))\n",
    "    x.start()\n",
    "x.join()\n",
    "\n",
    "end = timer()\n",
    "print('tempo total: ',end - start)"
   ]
  },
  {
   "cell_type": "code",
   "execution_count": null,
   "metadata": {},
   "outputs": [],
   "source": []
  }
 ],
 "metadata": {
  "kernelspec": {
   "display_name": "Python 3",
   "language": "python",
   "name": "python3"
  },
  "language_info": {
   "codemirror_mode": {
    "name": "ipython",
    "version": 3
   },
   "file_extension": ".py",
   "mimetype": "text/x-python",
   "name": "python",
   "nbconvert_exporter": "python",
   "pygments_lexer": "ipython3",
   "version": "3.8.3"
  }
 },
 "nbformat": 4,
 "nbformat_minor": 4
}
